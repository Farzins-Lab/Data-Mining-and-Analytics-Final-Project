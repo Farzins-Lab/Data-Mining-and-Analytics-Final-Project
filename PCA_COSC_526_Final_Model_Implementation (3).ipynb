{
  "nbformat": 4,
  "nbformat_minor": 0,
  "metadata": {
    "colab": {
      "provenance": [],
      "collapsed_sections": [
        "I5LIidVO-EMF",
        "qWuS-nD8k-aC"
      ],
      "authorship_tag": "ABX9TyMcgmx2Qv8KjcankelgZ7rv",
      "include_colab_link": true
    },
    "kernelspec": {
      "name": "python3",
      "display_name": "Python 3"
    },
    "language_info": {
      "name": "python"
    }
  },
  "cells": [
    {
      "cell_type": "markdown",
      "metadata": {
        "id": "view-in-github",
        "colab_type": "text"
      },
      "source": [
        "<a href=\"https://colab.research.google.com/github/Farzins-Lab/Data-Mining-and-Analytics-Final-Project/blob/main/PCA_COSC_526_Final_Model_Implementation%20(3).ipynb\" target=\"_parent\"><img src=\"https://colab.research.google.com/assets/colab-badge.svg\" alt=\"Open In Colab\"/></a>"
      ]
    },
    {
      "cell_type": "markdown",
      "source": [
        "#Setting Up Environment"
      ],
      "metadata": {
        "id": "SaW6VAaZmC5-"
      }
    },
    {
      "cell_type": "code",
      "execution_count": null,
      "metadata": {
        "id": "KXRRiIfe278E"
      },
      "outputs": [],
      "source": [
        "! pip install -q kaggle #kaggle cli"
      ]
    },
    {
      "cell_type": "code",
      "source": [
        " !mkdir ~/.kaggle"
      ],
      "metadata": {
        "id": "VbSggZolmGJE"
      },
      "execution_count": null,
      "outputs": []
    },
    {
      "cell_type": "code",
      "source": [
        "!cp kaggle.json ~/.kaggle/  #move to correct folder"
      ],
      "metadata": {
        "id": "8HSnud1zBYrp"
      },
      "execution_count": null,
      "outputs": []
    },
    {
      "cell_type": "code",
      "source": [
        " !chmod 600 ~/.kaggle/kaggle.json\n",
        "#set permissions"
      ],
      "metadata": {
        "id": "1ywVVt93mGM9"
      },
      "execution_count": null,
      "outputs": []
    },
    {
      "cell_type": "code",
      "source": [
        "! kaggle datasets download devarajv88/walmart-sales-dataset"
      ],
      "metadata": {
        "colab": {
          "base_uri": "https://localhost:8080/"
        },
        "id": "dTaXn-tZmKA1",
        "outputId": "49c8ba73-d2c4-4d00-abbd-5c14c41d6728"
      },
      "execution_count": null,
      "outputs": [
        {
          "output_type": "stream",
          "name": "stdout",
          "text": [
            "Dataset URL: https://www.kaggle.com/datasets/devarajv88/walmart-sales-dataset\n",
            "License(s): other\n"
          ]
        }
      ]
    },
    {
      "cell_type": "code",
      "source": [
        "#If you need to unzip using kaggle - change collab file name to avoid prompt\n",
        "! unzip 'walmart-sales-dataset.zip'\n"
      ],
      "metadata": {
        "id": "qmBRIS7DmKDZ",
        "colab": {
          "base_uri": "https://localhost:8080/"
        },
        "outputId": "a39c9b5d-1bb2-4f6b-f9c9-c4634647551b"
      },
      "execution_count": null,
      "outputs": [
        {
          "output_type": "stream",
          "name": "stdout",
          "text": [
            "Archive:  walmart-sales-dataset.zip\n",
            "  inflating: walmart.csv             \n"
          ]
        }
      ]
    },
    {
      "cell_type": "code",
      "source": [
        "# File System uploaded directly into Collab\n",
        "import pandas as pd\n",
        "file = ('/content/walmart.csv')\n",
        "\n",
        "df = pd.read_csv(file)\n",
        "\n",
        "\n"
      ],
      "metadata": {
        "id": "VaowbOhDmQAk"
      },
      "execution_count": 1,
      "outputs": []
    },
    {
      "cell_type": "code",
      "source": [
        "df = df.rename(columns= {'User_ID': 'UserID',\n",
        "                    'Product_ID': 'ProductID',\n",
        "\n",
        "\n",
        "                    'City_Category': 'City',\n",
        "       'Stay_In_Current_City_Years': 'YearsOfResidence',\n",
        "                    'Marital_Status':'MaritalStatus',\n",
        "                    'Product_Category': 'ProductCategory',\n",
        "                    'Purchase': 'ReceiptSum'})"
      ],
      "metadata": {
        "id": "RGcAIpZ3mn4-"
      },
      "execution_count": 2,
      "outputs": []
    },
    {
      "cell_type": "markdown",
      "source": [
        "# Linear Regression Model"
      ],
      "metadata": {
        "id": "I5LIidVO-EMF"
      }
    },
    {
      "cell_type": "code",
      "source": [
        "import pandas as pd\n",
        "import numpy as np\n",
        "from sklearn.model_selection import train_test_split\n",
        "from sklearn.preprocessing import MinMaxScaler, LabelEncoder, StandardScaler, RobustScaler\n",
        "from sklearn.linear_model import LinearRegression\n",
        "from sklearn.metrics import mean_squared_error, r2_score\n",
        "\n",
        "\n",
        "changedX = df.drop(['ReceiptSum', 'UserID', 'ProductID'], axis=1)\n",
        "y = df['ReceiptSum']\n",
        "\n",
        "# Label Encoding\n",
        "for column in changedX.select_dtypes(include=['object']).columns:\n",
        "    changedX[column] = pd.Categorical(changedX[column]).codes\n",
        "\n",
        "\n",
        "\n",
        "#plit first  90 in temp / 10%  in test\n",
        "changedX_temp, changedX_test, y_temp, y_test = train_test_split(changedX, y, test_size=0.1, random_state=42)\n",
        "\n",
        "\n",
        "#Split next 20%\n",
        "changedX_train, changedX_val, y_train, y_val = train_test_split(changedX_temp, y_temp, test_size= 2/9, random_state=42)\n",
        "\n",
        "\n",
        "\n",
        "\n",
        "# MinMaxScaler\n",
        "scaler = MinMaxScaler()\n",
        "changedX_train = scaler.fit_transform(changedX_train)  # call fittransform on training data only\n",
        "changedX_val = scaler.transform(changedX_val) # use transform on val and test sets to avoid leaking information\n",
        "changedX_test = scaler.transform(changedX_test)\n",
        "\n",
        "\n",
        "# Linear Regression\n",
        "lr_model = LinearRegression()\n",
        "lr_model.fit(changedX_train, y_train)\n",
        "predictions_lr = lr_model.predict(changedX_test)\n",
        "mse_lr = mean_squared_error(y_test, predictions_lr)\n",
        "r2_lr = r2_score(y_test, predictions_lr)\n",
        "\n",
        "\n",
        "\n",
        "print(\"Linear Regression Label Encoding Metrics For Sales Target using MinMaxScaler:\")\n",
        "print(\"MSE:\", mse_lr)\n",
        "print(\"R^2 Score:\", r2_lr)"
      ],
      "metadata": {
        "id": "L40BQRe7nD4_",
        "colab": {
          "base_uri": "https://localhost:8080/"
        },
        "outputId": "2603c16e-22fa-491f-ba89-d00249644c89"
      },
      "execution_count": 5,
      "outputs": [
        {
          "output_type": "stream",
          "name": "stdout",
          "text": [
            "Linear Regression Label Encoding Metrics For Sales Target using MinMaxScaler:\n",
            "MSE: 22074202.01808073\n",
            "R^2 Score: 0.12054821880925315\n"
          ]
        }
      ]
    },
    {
      "cell_type": "code",
      "source": [
        "import pandas as pd\n",
        "import numpy as np\n",
        "from sklearn.model_selection import train_test_split\n",
        "from sklearn.preprocessing import MinMaxScaler\n",
        "from sklearn.linear_model import LinearRegression\n",
        "from sklearn.metrics import mean_squared_error, r2_score\n",
        "\n",
        "\n",
        "changedX = df.drop(['ReceiptSum', 'UserID', 'ProductID'], axis=1)\n",
        "y = df['ReceiptSum']\n",
        "\n",
        "# One-hot encode\n",
        "changedX = pd.get_dummies(changedX, drop_first=True)  # drop_first to avoid dummy variable trap\n",
        "\n",
        "\n",
        "#Split\n",
        "changedX_temp, changedX_test, y_temp, y_test = train_test_split(changedX, y, test_size=0.1, random_state=42)\n",
        "\n",
        "\n",
        "#Split next 20%\n",
        "changedX_train, changedX_val, y_train, y_val = train_test_split(changedX_temp, y_temp, test_size= 2/9, random_state=42)\n",
        "\n",
        "\n",
        "\n",
        "#MinMaxScaler\n",
        "scaler = StandardScaler()\n",
        "changedX_train = scaler.fit_transform(changedX_train)\n",
        "changedX_val = scaler.transform(changedX_val)\n",
        "changedX_test = scaler.transform(changedX_test)\n",
        "\n",
        "\n",
        "lr_model = LinearRegression()\n",
        "lr_model.fit(changedX_train, y_train)\n",
        "predictions_lr = lr_model.predict(changedX_test)\n",
        "mse_lr = mean_squared_error(y_test, predictions_lr)\n",
        "r2_lr = r2_score(y_test, predictions_lr)\n",
        "\n",
        "print(\"Linear Regression Metrics using StandardScaler:\")\n",
        "print(\"MSE:\", mse_lr)\n",
        "print(\"R^2 Score:\", r2_lr)\n"
      ],
      "metadata": {
        "colab": {
          "base_uri": "https://localhost:8080/"
        },
        "id": "LGsf9i0rEEnU",
        "outputId": "eeb94817-7678-4d69-8b76-3ac5da1a5e31"
      },
      "execution_count": 6,
      "outputs": [
        {
          "output_type": "stream",
          "name": "stdout",
          "text": [
            "Linear Regression Metrics using StandardScaler:\n",
            "MSE: 22062071.263333105\n",
            "R^2 Score: 0.12103151663633871\n"
          ]
        }
      ]
    },
    {
      "cell_type": "code",
      "source": [
        "import pandas as pd\n",
        "import numpy as np\n",
        "from sklearn.model_selection import train_test_split\n",
        "from sklearn.preprocessing import RobustScaler\n",
        "from sklearn.linear_model import LinearRegression\n",
        "from sklearn.metrics import mean_squared_error, r2_score\n",
        "\n",
        "\n",
        "changedX = df.drop(['ReceiptSum', 'UserID', 'ProductID'], axis=1)\n",
        "y = df['ReceiptSum']\n",
        "\n",
        "# One-hot encode\n",
        "changedX = pd.get_dummies(changedX, drop_first=True)  # drop_first to avoid dummy variable trap\n",
        "\n",
        "\n",
        "\n",
        "#Split\n",
        "changedX_temp, changedX_test, y_temp, y_test = train_test_split(changedX, y, test_size=0.1, random_state=42)\n",
        "\n",
        "\n",
        "#Split next 20%\n",
        "changedX_train, changedX_val, y_train, y_val = train_test_split(changedX_temp, y_temp, test_size= 2/9, random_state=42)\n",
        "\n",
        "\n",
        "#RobustScaler\n",
        "scaler = RobustScaler()\n",
        "changedX_train = scaler.fit_transform(changedX_train)\n",
        "changedX_val = scaler.transform(changedX_val)\n",
        "changedX_test = scaler.transform(changedX_test)\n",
        "\n",
        "\n",
        "\n",
        "\n",
        "lr_model = LinearRegression()\n",
        "lr_model.fit(changedX_train, y_train)\n",
        "predictions_lr = lr_model.predict(changedX_test)\n",
        "mse_lr = mean_squared_error(y_test, predictions_lr)\n",
        "r2_lr = r2_score(y_test, predictions_lr)\n",
        "\n",
        "print(\"Linear Regression Metrics using RobustScaler:\")\n",
        "print(\"MSE:\", mse_lr)\n",
        "print(\"R^2 Score:\", r2_lr)"
      ],
      "metadata": {
        "colab": {
          "base_uri": "https://localhost:8080/"
        },
        "id": "RkCUi7c4IAZs",
        "outputId": "a872b7cc-89ff-42e4-a24b-9b20e8d2e081"
      },
      "execution_count": 7,
      "outputs": [
        {
          "output_type": "stream",
          "name": "stdout",
          "text": [
            "Linear Regression Metrics using RobustScaler:\n",
            "MSE: 22062071.263333105\n",
            "R^2 Score: 0.12103151663633871\n"
          ]
        }
      ]
    },
    {
      "cell_type": "code",
      "source": [
        "import matplotlib.pyplot as plt\n",
        "\n",
        "models = [\"MinMaxScaler (Label Encoded)\", \"StandardScaler (One Hot Encoded) \", \"RobustScaler (One Hot Encoded)\"]\n",
        "mse = [22074202.01808073, 22062071.263333105, 22062071.263333105]\n",
        "r2 = [0.12054821880925315, 0.12103151663633871, 0.12103151663633871]\n",
        "\n",
        "fig, ax = plt.subplots(figsize=(10, 5))\n",
        "bars = ax.bar(models, r2, color='b', alpha=0.6)\n",
        "\n",
        "for bar, mse_value in zip(bars, mse):\n",
        "    yval = bar.get_height()\n",
        "    ax.text(bar.get_x() + bar.get_width()/2, yval, f'MSE: { mse_value:.2f}',\n",
        "            verticalalignment='bottom', ha='center')\n",
        "\n",
        "\n",
        "ax.set_xlabel('Models')\n",
        "ax.set_ylabel('R2 Score')\n",
        "ax.set_title('Linear Regression Comparison of R2 and MSE')\n",
        "plt.show()\n"
      ],
      "metadata": {
        "colab": {
          "base_uri": "https://localhost:8080/",
          "height": 487
        },
        "id": "bziOyh3DSbv0",
        "outputId": "0722546f-8bd6-4a7f-f6ec-a4ea9ea20ea5"
      },
      "execution_count": null,
      "outputs": [
        {
          "output_type": "display_data",
          "data": {
            "text/plain": [
              "<Figure size 1000x500 with 1 Axes>"
            ],
            "image/png": "[encoded data removed]"
          },
          "metadata": {}
        }
      ]
    },
    {
      "cell_type": "markdown",
      "source": [
        "# PCA Linear Regression"
      ],
      "metadata": {
        "id": "qWuS-nD8k-aC"
      }
    },
    {
      "cell_type": "code",
      "source": [
        "import pandas as pd\n",
        "import numpy as np\n",
        "from sklearn.model_selection import train_test_split\n",
        "from sklearn.preprocessing import RobustScaler\n",
        "from sklearn.linear_model import LinearRegression\n",
        "from sklearn.metrics import mean_squared_error, r2_score\n",
        "\n",
        "\n",
        "changedX = df.drop(['ReceiptSum', 'UserID', 'ProductID'], axis=1)\n",
        "y = df['ReceiptSum']\n",
        "\n",
        "# One-hot encode\n",
        "changedX = pd.get_dummies(changedX, drop_first=True)  # drop_first to avoid dummy variable trap\n",
        "\n",
        "\n",
        "\n",
        "#Split\n",
        "changedX_temp, changedX_test, y_temp, y_test = train_test_split(changedX, y, test_size=0.1, random_state=42)\n",
        "\n",
        "\n",
        "#Split next 20%\n",
        "changedX_train, changedX_val, y_train, y_val = train_test_split(changedX_temp, y_temp, test_size= 2/9, random_state=42)\n",
        "\n",
        "\n",
        "#RobustScaler\n",
        "scaler = RobustScaler()\n",
        "changedX_train = scaler.fit_transform(changedX_train)\n",
        "changedX_val = scaler.transform(changedX_val)\n",
        "changedX_test = scaler.transform(changedX_test)\n",
        "\n",
        "#PCA\n",
        "pca = PCA(n_components=0.95, random_state=42)\n",
        "changedX_train = pca.fit_transform(changedX_train)\n",
        "changedX_val = pca.transform(changedX_val) # val set\n",
        "changedX_test = pca.transform(changedX_test) # Test set\n",
        "\n",
        "\n",
        "\n",
        "lr_model = LinearRegression()\n",
        "lr_model.fit(changedX_train, y_train)\n",
        "\n",
        "# Val Set\n",
        "val_predictions = lr_model.predict(changedX_val)\n",
        "val_mse = mean_squared_error(y_val, val_predictions)\n",
        "val_r2 = r2_score(y_val, val_predictions)\n",
        "\n",
        "\n",
        "#Test Set\n",
        "predictions_lr = lr_model.predict(changedX_test)\n",
        "mse_lr = mean_squared_error(y_test, predictions_lr)\n",
        "r2_lr = r2_score(y_test, predictions_lr)\n",
        "\n",
        "print(\"Validation Metrics:\")\n",
        "print(\"MSE:\", val_mse)\n",
        "print(\"R^2 Score:\", val_r2)\n",
        "print()\n",
        "print(\"Linear Regression Metrics using PCA and RobustScaler:\")\n",
        "print(\"MSE:\", mse_lr)\n",
        "print(\"R^2 Score:\", r2_lr)\n",
        "print()\n",
        "print(f\"Original number of features: {changedX_train.shape[1]}\")\n",
        "print(f\"Reduced number of features: {pca.n_components_}\")\n",
        "\n"
      ],
      "metadata": {
        "colab": {
          "base_uri": "https://localhost:8080/"
        },
        "id": "HsGjwLn7lBf0",
        "outputId": "72cb2d17-f8b5-428c-9a26-7e37ad3b8207"
      },
      "execution_count": 22,
      "outputs": [
        {
          "output_type": "stream",
          "name": "stdout",
          "text": [
            "Validation Metrics:\n",
            "MSE: 22164931.83028695\n",
            "R^2 Score: 0.1229215693648914\n",
            "\n",
            "Linear Regression Metrics using PCA and RobustScaler:\n",
            "MSE: 22071938.812738545\n",
            "R^2 Score: 0.12063838650671987\n",
            "\n",
            "Original number of features: 13\n",
            "Reduced number of features: 13\n"
          ]
        }
      ]
    },
    {
      "cell_type": "code",
      "source": [
        "import pandas as pd\n",
        "import numpy as np\n",
        "from sklearn.model_selection import train_test_split\n",
        "from sklearn.preprocessing import MinMaxScaler\n",
        "from sklearn.linear_model import LinearRegression\n",
        "from sklearn.metrics import mean_squared_error, r2_score\n",
        "\n",
        "\n",
        "changedX = df.drop(['ReceiptSum', 'UserID', 'ProductID'], axis=1)\n",
        "y = df['ReceiptSum']\n",
        "\n",
        "# One-hot encode\n",
        "changedX = pd.get_dummies(changedX, drop_first=True)  # drop_first to avoid dummy variable trap\n",
        "\n",
        "\n",
        "#Split\n",
        "changedX_temp, changedX_test, y_temp, y_test = train_test_split(changedX, y, test_size=0.1, random_state=42)\n",
        "\n",
        "\n",
        "#Split next 20%\n",
        "changedX_train, changedX_val, y_train, y_val = train_test_split(changedX_temp, y_temp, test_size= 2/9, random_state=42)\n",
        "\n",
        "\n",
        "\n",
        "#Standard Scaler\n",
        "scaler = StandardScaler()\n",
        "changedX_train = scaler.fit_transform(changedX_train)\n",
        "changedX_val = scaler.transform(changedX_val)\n",
        "changedX_test = scaler.transform(changedX_test)\n",
        "\n",
        "\n",
        "#PCA\n",
        "pca = PCA(n_components=0.95, random_state=42)\n",
        "changedX_train = pca.fit_transform(changedX_train)\n",
        "changedX_val = pca.transform(changedX_val) # val set\n",
        "changedX_test = pca.transform(changedX_test) # Test set\n",
        "\n",
        "\n",
        "\n",
        "lr_model = LinearRegression()\n",
        "lr_model.fit(changedX_train, y_train)\n",
        "\n",
        "# Val Set\n",
        "val_predictions = lr_model.predict(changedX_val)\n",
        "val_mse = mean_squared_error(y_val, val_predictions)\n",
        "val_r2 = r2_score(y_val, val_predictions)\n",
        "\n",
        "\n",
        "#Test Set\n",
        "predictions_lr = lr_model.predict(changedX_test)\n",
        "mse_lr = mean_squared_error(y_test, predictions_lr)\n",
        "r2_lr = r2_score(y_test, predictions_lr)\n",
        "\n",
        "print(\"Validation Metrics:\")\n",
        "print(\"MSE:\", val_mse)\n",
        "print(\"R^2 Score:\", val_r2)\n",
        "print()\n",
        "print(\"Linear Regression Metrics using PCA and Standard:\")\n",
        "print(\"MSE:\", mse_lr)\n",
        "print(\"R^2 Score:\", r2_lr)\n",
        "print()\n",
        "print(f\"Original number of features: {changedX_train.shape[1]}\")\n",
        "print(f\"Reduced number of features: {pca.n_components_}\")\n"
      ],
      "metadata": {
        "colab": {
          "base_uri": "https://localhost:8080/"
        },
        "id": "mg_-_kmFlTz7",
        "outputId": "9d79121a-046e-47fb-b1f3-355394894c51"
      },
      "execution_count": 18,
      "outputs": [
        {
          "output_type": "stream",
          "name": "stdout",
          "text": [
            "Linear Regression Metrics using PCA and StandardScaler:\n",
            "MSE: 22093584.581663217\n",
            "R^2 Score: 0.11977600380221909\n",
            "Original number of features: 13\n",
            "Reduced number of features: 13\n"
          ]
        }
      ]
    },
    {
      "cell_type": "code",
      "source": [
        "# PCA\n",
        "pca_full = PCA()\n",
        "pca_full.fit(changedX_train)\n",
        "\n",
        "\n",
        "explained_variance = np.cumsum(pca_full.explained_variance_ratio_)\n",
        "print(\"Cumulative Explained Variance by Number of Components:\")\n",
        "for i, val in enumerate(explained_variance):\n",
        "    print(f\"Component {i+1}: {val:.4f}\")\n",
        "\n",
        "\n",
        "import matplotlib.pyplot as plt\n",
        "# Plot\n",
        "plt.figure(figsize=(10, 6))\n",
        "plt.plot(np.cumsum(pca_full.explained_variance_ratio_), marker='o')\n",
        "plt.xlabel('Number of Principal Components')\n",
        "plt.ylabel('Cumulative Explained Variance')\n",
        "plt.title('Explained Variance vs. Number of Components')\n",
        "plt.axhline(y=0.95, color='r', linestyle='--', label='95% Threshold')\n",
        "plt.grid(True)\n",
        "plt.legend()\n",
        "plt.tight_layout()\n",
        "plt.show()\n"
      ],
      "metadata": {
        "colab": {
          "base_uri": "https://localhost:8080/",
          "height": 944
        },
        "id": "WgFvw7SPa4vX",
        "outputId": "cb9054f7-89f3-420c-b700-9a78c3ed09d7"
      },
      "execution_count": 12,
      "outputs": [
        {
          "output_type": "stream",
          "name": "stdout",
          "text": [
            "Cumulative Explained Variance by Number of Components:\n",
            "Component 1: 0.1275\n",
            "Component 2: 0.2390\n",
            "Component 3: 0.3460\n",
            "Component 4: 0.4517\n",
            "Component 5: 0.5513\n",
            "Component 6: 0.6394\n",
            "Component 7: 0.7047\n",
            "Component 8: 0.7662\n",
            "Component 9: 0.8273\n",
            "Component 10: 0.8822\n",
            "Component 11: 0.9177\n",
            "Component 12: 0.9477\n",
            "Component 13: 0.9735\n",
            "Component 14: 0.9886\n",
            "Component 15: 0.9985\n",
            "Component 16: 1.0000\n"
          ]
        },
        {
          "output_type": "display_data",
          "data": {
            "text/plain": [
              "<Figure size 1000x600 with 1 Axes>"
            ],
            "image/png": "[encoded data removed]"
          },
          "metadata": {}
        }
      ]
    },
    {
      "cell_type": "markdown",
      "source": [
        "# Best Logistic Regression Models"
      ],
      "metadata": {
        "id": "32UdhMGZCkA-"
      }
    },
    {
      "cell_type": "code",
      "source": [
        "## Using Median MinMax Scaler\n",
        "\n",
        "import pandas as pd\n",
        "from sklearn.preprocessing import StandardScaler, MinMaxScaler, RobustScaler\n",
        "from sklearn.preprocessing import OneHotEncoder, StandardScaler\n",
        "from sklearn.compose import ColumnTransformer\n",
        "from sklearn.linear_model import LogisticRegression\n",
        "from sklearn.model_selection import train_test_split\n",
        "from sklearn.metrics import mean_squared_error, r2_score\n",
        "from sklearn.metrics import accuracy_score, precision_score, recall_score, f1_score, confusion_matrix, classification_report\n",
        "\n",
        "\n",
        "XLogisticRegression = df.drop(['ReceiptSum', 'UserID', 'ProductID'], axis=1)\n",
        "y = df['ReceiptSum'] > df['ReceiptSum'].median()  # Categorize as high (1) or low (0) spending\n",
        "#y=y.squeeze()\n",
        "\n",
        "# One-hot encode categorical features\n",
        "XLogisticRegression = pd.get_dummies(XLogisticRegression, drop_first=True)  # drop_first to avoid dummy variable trap\n",
        "\n",
        "\n",
        "\n",
        "#plit first  90 in temp / 10%  in test\n",
        "changedX_temp, changedX_test, y_temp, y_test = train_test_split(changedX, y, test_size=0.1, random_state=42)\n",
        "\n",
        "\n",
        "#Split next 20%\n",
        "changedX_train, changedX_val, y_train, y_val = train_test_split(changedX_temp, y_temp, test_size= 2/9, random_state=42)\n",
        "\n",
        "model = LogisticRegression(max_iter=1000)\n",
        "\n",
        "\n",
        "scaler = MinMaxScaler()\n",
        "X_train = scaler.fit_transform(X_train)\n",
        "X_test = scaler.transform(X_test)\n",
        "\n",
        "\n",
        "model.fit(X_train, y_train)\n",
        "y_pred = model.predict(X_test)\n",
        "\n",
        "# Calculate metrics\n",
        "#mse = mean_squared_error(y_test, y_pred)\n",
        "#r2 = r2_score(y_test, y_pred)\n",
        "\n",
        "intercept = model.intercept_\n",
        "coefficients = model.coef_\n",
        "accuracy = accuracy_score(y_test, y_pred)\n",
        "precision = precision_score(y_test, y_pred, average='weighted')\n",
        "recall = recall_score(y_test, y_pred, average='weighted')\n",
        "f1 = f1_score(y_test, y_pred, average='weighted')\n",
        "\n",
        "\n",
        "# Print the results\n",
        "#print(\"Mean Squared Error (MSE):\", mse)\n",
        "#print(\"R-squared (R²):\", r2)\n",
        "#print(\"Y Intercept:\", intercept)\n",
        "#print(\"Coefficients:\", coefficients)\n",
        "\n",
        "\n",
        "print(f\"Accuracy: {accuracy:.3f}\")\n",
        "print(f\"Precision: {precision:.3f}\")\n",
        "print(f\"Recall: {recall:.3f}\")\n",
        "print(f\"F1 Score: {f1:.3f}\")\n",
        "print(\"Confusion Matrix:\\n\", confusion_matrix(y_test, y_pred))\n",
        "print(\"Classification Report:\\n\", classification_report(y_test, y_pred))\n",
        "\n"
      ],
      "metadata": {
        "colab": {
          "base_uri": "https://localhost:8080/"
        },
        "id": "QkDqcFN1JGfu",
        "outputId": "25a5aab5-8413-4d43-eb99-2a8442447d60"
      },
      "execution_count": null,
      "outputs": [
        {
          "output_type": "stream",
          "name": "stdout",
          "text": [
            "Accuracy: 0.641\n",
            "Precision: 0.641\n",
            "Recall: 0.641\n",
            "F1 Score: 0.641\n",
            "Confusion Matrix:\n",
            " [[34557 20589]\n",
            " [18929 35939]]\n",
            "Classification Report:\n",
            "               precision    recall  f1-score   support\n",
            "\n",
            "       False       0.65      0.63      0.64     55146\n",
            "        True       0.64      0.66      0.65     54868\n",
            "\n",
            "    accuracy                           0.64    110014\n",
            "   macro avg       0.64      0.64      0.64    110014\n",
            "weighted avg       0.64      0.64      0.64    110014\n",
            "\n"
          ]
        }
      ]
    },
    {
      "cell_type": "code",
      "source": [
        "## Using Mean Standard Scaler\n",
        "\n",
        "import pandas as pd\n",
        "from sklearn.preprocessing import StandardScaler\n",
        "from sklearn.preprocessing import OneHotEncoder, StandardScaler\n",
        "from sklearn.compose import ColumnTransformer\n",
        "from sklearn.linear_model import LogisticRegression\n",
        "from sklearn.model_selection import train_test_split\n",
        "from sklearn.metrics import mean_squared_error, r2_score\n",
        "from sklearn.metrics import accuracy_score, precision_score, recall_score, f1_score, confusion_matrix, classification_report\n",
        "\n",
        "\n",
        "XLogisticRegression = df.drop(['ReceiptSum', 'UserID', 'ProductID'], axis=1)\n",
        "y = df['ReceiptSum'] > df['ReceiptSum'].mean()  # Categorize as high (1) or low (0) spending\n",
        "#y=y.squeeze()\n",
        "\n",
        "# One-hot encode categorical features\n",
        "XLogisticRegression = pd.get_dummies(XLogisticRegression, drop_first=True)  # drop_first to avoid dummy variable trap\n",
        "\n",
        "\n",
        "\n",
        "X_train, X_test, y_train, y_test = train_test_split(XLogisticRegression, y, test_size=0.2, random_state=42)\n",
        "model = LogisticRegression(max_iter=1000)\n",
        "\n",
        "\n",
        "scaler = StandardScaler()\n",
        "X_train = scaler.fit_transform(X_train)\n",
        "X_test = scaler.transform(X_test)\n",
        "\n",
        "\n",
        "model.fit(X_train, y_train)\n",
        "y_pred = model.predict(X_test)\n",
        "\n",
        "# Calculate metrics\n",
        "#mse = mean_squared_error(y_test, y_pred)\n",
        "#r2 = r2_score(y_test, y_pred)\n",
        "\n",
        "intercept = model.intercept_\n",
        "coefficients = model.coef_\n",
        "accuracy = accuracy_score(y_test, y_pred)\n",
        "precision = precision_score(y_test, y_pred, average='weighted')\n",
        "recall = recall_score(y_test, y_pred, average='weighted')\n",
        "f1 = f1_score(y_test, y_pred, average='weighted')\n",
        "\n",
        "\n",
        "# Print the results\n",
        "#print(\"Mean Squared Error (MSE):\", mse)\n",
        "#print(\"R-squared (R²):\", r2)\n",
        "#print(\"Y Intercept:\", intercept)\n",
        "#print(\"Coefficients:\", coefficients)\n",
        "\n",
        "print(f\"Accuracy: {accuracy:.3f}\")\n",
        "print(f\"Precision : {precision:.3f}\")\n",
        "print(f\"Recall: {recall:.3f}\")\n",
        "print(f\"F1 Score: {f1:.3f}\")\n",
        "\n",
        "print(\"Confusion Matrix:\\n\", confusion_matrix(y_test, y_pred))\n",
        "print(\"Classification Report:\\n\", classification_report(y_test, y_pred))\n",
        "\n"
      ],
      "metadata": {
        "colab": {
          "base_uri": "https://localhost:8080/"
        },
        "id": "htI8EPd1NMPw",
        "outputId": "24c72eb2-1b20-45fb-b57c-bcfb4b2f0efa"
      },
      "execution_count": 3,
      "outputs": [
        {
          "output_type": "stream",
          "name": "stdout",
          "text": [
            "Accuracy: 0.788\n",
            "Precision : 0.789\n",
            "Recall: 0.788\n",
            "F1 Score: 0.781\n",
            "Confusion Matrix:\n",
            " [[59653  6769]\n",
            " [16598 26994]]\n",
            "Classification Report:\n",
            "               precision    recall  f1-score   support\n",
            "\n",
            "       False       0.78      0.90      0.84     66422\n",
            "        True       0.80      0.62      0.70     43592\n",
            "\n",
            "    accuracy                           0.79    110014\n",
            "   macro avg       0.79      0.76      0.77    110014\n",
            "weighted avg       0.79      0.79      0.78    110014\n",
            "\n"
          ]
        }
      ]
    },
    {
      "cell_type": "markdown",
      "source": [
        "# PCA Logistic Regression"
      ],
      "metadata": {
        "id": "JclW3gnmc2w2"
      }
    },
    {
      "cell_type": "code",
      "source": [
        "## Using Mean Standard Scaler with PCA\n",
        "\n",
        "import pandas as pd\n",
        "from sklearn.preprocessing import StandardScaler\n",
        "from sklearn.decomposition import PCA\n",
        "from sklearn.linear_model import LogisticRegression\n",
        "from sklearn.model_selection import train_test_split\n",
        "from sklearn.metrics import accuracy_score, precision_score, recall_score, f1_score, confusion_matrix, classification_report\n",
        "\n",
        "XLogisticRegression = df.drop(['ReceiptSum', 'UserID', 'ProductID'], axis=1)\n",
        "y = df['ReceiptSum'] > df['ReceiptSum'].mean()  # Categorize as high (1) or low (0) spending\n",
        "\n",
        "# One-hot\n",
        "XLogisticRegression = pd.get_dummies(XLogisticRegression, drop_first=True)\n",
        "\n",
        "# Split\n",
        "X_train, X_test, y_train, y_test = train_test_split(XLogisticRegression, y, test_size=0.2, random_state=42)\n",
        "\n",
        "# Apply PCA\n",
        "pca = PCA(n_components=0.95)  # Keep 95% variance\n",
        "X_train = pca.fit_transform(X_train)\n",
        "X_test = pca.transform(X_test)\n",
        "\n",
        "# Scale\n",
        "scaler = StandardScaler()\n",
        "X_train = scaler.fit_transform(X_train)\n",
        "X_test = scaler.transform(X_test)\n",
        "\n",
        "# Train\n",
        "model = LogisticRegression(max_iter=1000)\n",
        "model.fit(X_train, y_train)\n",
        "y_pred = model.predict(X_test)\n",
        "\n",
        "# Eval\n",
        "intercept = model.intercept_\n",
        "coefficients = model.coef_\n",
        "accuracy = accuracy_score(y_test, y_pred)\n",
        "precision = precision_score(y_test, y_pred, average='weighted')\n",
        "recall = recall_score(y_test, y_pred, average='weighted')\n",
        "f1 = f1_score(y_test, y_pred, average='weighted')\n",
        "\n",
        "\n",
        "print(f\"Accuracy: {accuracy:.3f}\")\n",
        "print(f\"Precision : {precision:.3f}\")\n",
        "print(f\"Recall: {recall:.3f}\")\n",
        "print(f\"F1 Score: {f1:.3f}\")\n",
        "print(\"Confusion Matrix:\\n\", confusion_matrix(y_test, y_pred))\n",
        "print(\"Classification Report:\\n\", classification_report(y_test, y_pred))\n"
      ],
      "metadata": {
        "colab": {
          "base_uri": "https://localhost:8080/"
        },
        "id": "7n0RVpXTqA3w",
        "outputId": "13d346ed-869a-4218-9bf3-b3e7ec07b828"
      },
      "execution_count": 23,
      "outputs": [
        {
          "output_type": "stream",
          "name": "stdout",
          "text": [
            "Accuracy: 0.793\n",
            "Precision : 0.794\n",
            "Recall: 0.793\n",
            "F1 Score: 0.787\n",
            "Confusion Matrix:\n",
            " [[59611  6811]\n",
            " [16009 27583]]\n",
            "Classification Report:\n",
            "               precision    recall  f1-score   support\n",
            "\n",
            "       False       0.79      0.90      0.84     66422\n",
            "        True       0.80      0.63      0.71     43592\n",
            "\n",
            "    accuracy                           0.79    110014\n",
            "   macro avg       0.80      0.77      0.77    110014\n",
            "weighted avg       0.79      0.79      0.79    110014\n",
            "\n"
          ]
        }
      ]
    },
    {
      "cell_type": "code",
      "source": [
        "import pandas as pd\n",
        "from sklearn.preprocessing import StandardScaler\n",
        "from sklearn.preprocessing import OneHotEncoder, StandardScaler\n",
        "from sklearn.compose import ColumnTransformer\n",
        "from sklearn.linear_model import LogisticRegression\n",
        "from sklearn.model_selection import train_test_split\n",
        "from sklearn.metrics import mean_squared_error, r2_score\n",
        "from sklearn.metrics import accuracy_score, precision_score, recall_score, f1_score, confusion_matrix, classification_report\n",
        "from sklearn.decomposition import PCA\n",
        "\n",
        "XLogisticRegression = df.drop(['ReceiptSum', 'UserID', 'ProductID'], axis=1)\n",
        "y = df['ReceiptSum'] > df['ReceiptSum'].mean()\n",
        "\n",
        "\n",
        "# One-hot encode categorical features\n",
        "XLogisticRegression = pd.get_dummies(XLogisticRegression, drop_first=True)  # drop_first to avoid dummy variable trap\n",
        "\n",
        "\n",
        "\n",
        "\n",
        "#plit first  90 in temp / 10%  in test\n",
        "changedX_temp, changedX_test, y_temp, y_test = train_test_split(XLogisticRegression, y, test_size=0.1, random_state=42)\n",
        "\n",
        "\n",
        "#Split next 20%\n",
        "changedX_train, changedX_val, y_train, y_val = train_test_split(changedX_temp, y_temp, test_size= 2/9, random_state=42)\n",
        "\n",
        "\n",
        "\n",
        "# MinMaxScaler\n",
        "scaler = MinMaxScaler()\n",
        "changedX_train = scaler.fit_transform(changedX_train)  # call fittransform on training data only\n",
        "changedX_val = scaler.transform(changedX_val) # use transform on val and test sets to avoid leaking information\n",
        "changedX_test = scaler.transform(changedX_test)\n",
        "\n",
        "\n",
        "\n",
        "#PCA\n",
        "pca = PCA(n_components=0.95, random_state=42)\n",
        "X_train_pca = pca.fit_transform(changedX_train)\n",
        "\n",
        "X_val_pca = pca.transform(changedX_val)\n",
        "X_test_pca = pca.transform(changedX_test)\n",
        "\n",
        "\n",
        "\n",
        "print(f\"Original number of features: {changedX_train.shape[1]}\")\n",
        "print(f\"Reduced number of features: {pca.n_components_}\")\n",
        "\n",
        "\n",
        "\n",
        "# Train Logistic Regression\n",
        "model = LogisticRegression(max_iter=1000, class_weight='balanced')\n",
        "model.fit(X_train_pca, y_train)\n",
        "\n",
        "# Val Prediction # Test Prediction\n",
        "y_valpred = model.predict(X_val_pca)\n",
        "\n",
        "y_testpred = model.predict(X_test_pca)\n",
        "\n",
        "\n",
        "#print(\"Actual test distribution:\\n\", y_test.value_counts())\n",
        "#print(\"Predicted test distribution:\\n\", pd.Series(y_testpred).value_counts())\n",
        "\n",
        "\n",
        "# Val Prediction\n",
        "intercept = model.intercept_\n",
        "coefficients = model.coef_\n",
        "accuracy = accuracy_score(y_test, y_testpred)\n",
        "precision = precision_score(y_test, y_testpred, average='weighted')\n",
        "recall = recall_score(y_test, y_testpred, average='weighted')\n",
        "f1 = f1_score(y_test, y_testpred, average='weighted')\n",
        "\n",
        "\n",
        "print(f\"Accuracy: {accuracy:.3f}\")\n",
        "print(f\"Precision : {precision:.3f}\")\n",
        "print(f\"Recall: {recall:.3f}\")\n",
        "print(f\"F1 Score: {f1:.3f}\")\n",
        "\n",
        "print(\"Confusion Matrix:\\n\", confusion_matrix(y_test, y_testpred))\n",
        "print(\"Classification Report:\\n\", classification_report(y_test, y_testpred))\n",
        "\n",
        "\n",
        "\n"
      ],
      "metadata": {
        "colab": {
          "base_uri": "https://localhost:8080/"
        },
        "id": "6HUE7FO1c7ED",
        "outputId": "2e3c1d6c-977c-41fd-8f98-879b1ad515c1"
      },
      "execution_count": null,
      "outputs": [
        {
          "output_type": "stream",
          "name": "stdout",
          "text": [
            "Original number of features: 16\n",
            "Reduced number of features: 12\n",
            "Accuracy: 0.526\n",
            "Precision : 0.554\n",
            "Recall: 0.526\n",
            "F1 Score: 0.531\n",
            "Confusion Matrix:\n",
            " [[16552 16626]\n",
            " [ 9427 12402]]\n",
            "Classification Report:\n",
            "               precision    recall  f1-score   support\n",
            "\n",
            "       False       0.64      0.50      0.56     33178\n",
            "        True       0.43      0.57      0.49     21829\n",
            "\n",
            "    accuracy                           0.53     55007\n",
            "   macro avg       0.53      0.53      0.52     55007\n",
            "weighted avg       0.55      0.53      0.53     55007\n",
            "\n"
          ]
        }
      ]
    },
    {
      "cell_type": "code",
      "source": [
        "## Using Mean MinMaxScaler\n",
        "\n",
        "import pandas as pd\n",
        "from sklearn.preprocessing import MinMaxScaler\n",
        "from sklearn.preprocessing import OneHotEncoder, StandardScaler\n",
        "from sklearn.compose import ColumnTransformer\n",
        "from sklearn.linear_model import LogisticRegression\n",
        "from sklearn.model_selection import train_test_split\n",
        "from sklearn.metrics import mean_squared_error, r2_score\n",
        "from sklearn.metrics import accuracy_score, precision_score, recall_score, f1_score, confusion_matrix, classification_report\n",
        "from sklearn.decomposition import PCA\n",
        "\n",
        "XLogisticRegression = df.drop(['ReceiptSum', 'UserID', 'ProductID'], axis=1)\n",
        "y = df['ReceiptSum'] > df['ReceiptSum'].mean()  # Categorize as high (1) or low (0) spending\n",
        "#y=y.squeeze()\n",
        "\n",
        "# One-hot encode categorical features\n",
        "XLogisticRegression = pd.get_dummies(XLogisticRegression, drop_first=True)  # drop_first to avoid dummy variable trap\n",
        "\n",
        "\n",
        "\n",
        "#plit first  90 in temp / 10%  in test\n",
        "changedX_temp, changedX_test, y_temp, y_test = train_test_split(XLogisticRegression, y, test_size=0.1, random_state=42)\n",
        "\n",
        "\n",
        "#Split next 20%\n",
        "changedX_train, changedX_val, y_train, y_val = train_test_split(changedX_temp, y_temp, test_size= 2/9, random_state=42)\n",
        "\n",
        "\n",
        "#MinMax Scaler\n",
        "scaler = MinMaxScaler()\n",
        "X_train = scaler.fit_transform(changedX_train)\n",
        "X_val = scaler.transform(changedX_val)\n",
        "\n",
        "X_test = scaler.transform(changedX_test)\n",
        "\n",
        "\n",
        "\n",
        "#PCA Data\n",
        "pca = PCA(n_components=0.95, random_state=42)\n",
        "X_train = pca.fit_transform(X_train)\n",
        "X_val = pca.transform(X_val)\n",
        "X_test = pca.transform(X_test)\n",
        "\n",
        "#Train x\n",
        "\n",
        "model = LogisticRegression(max_iter=1000, class_weight='balanced')\n",
        "\n",
        "model.fit(X_train, y_train)\n",
        "y_pred = model.predict(X_test)\n",
        "\n",
        "# Calculate metrics\n",
        "#mse = mean_squared_error(y_test, y_pred)\n",
        "#r2 = r2_score(y_test, y_pred)\n",
        "\n",
        "intercept = model.intercept_\n",
        "coefficients = model.coef_\n",
        "accuracy = accuracy_score(y_test, y_pred)\n",
        "precision = precision_score(y_test, y_pred, average='weighted')\n",
        "recall = recall_score(y_test, y_pred, average='weighted')\n",
        "f1 = f1_score(y_test, y_pred, average='weighted')\n",
        "\n",
        "\n",
        "# Print the results\n",
        "#print(\"Mean Squared Error (MSE):\", mse)\n",
        "#print(\"R-squared (R²):\", r2)\n",
        "#print(\"Y Intercept:\", intercept)\n",
        "#print(\"Coefficients:\", coefficients)\n",
        "\n",
        "print(f\"Accuracy: {accuracy:.3f}\")\n",
        "print(f\"Precision: {precision:.3f}\")\n",
        "print(f\"Recall: {recall:.3f}\")\n",
        "print(f\"F1 Score: {f1:.3f}\")\n",
        "print(\"Confusion Matrix:\\n\", confusion_matrix(y_test, y_pred))\n",
        "print(\"Classification Report:\\n\", classification_report(y_test, y_pred))\n"
      ],
      "metadata": {
        "colab": {
          "base_uri": "https://localhost:8080/"
        },
        "id": "yRIwAh3qfP4c",
        "outputId": "9cfb2654-4ae2-4203-8161-86bd3c9b6c0e"
      },
      "execution_count": null,
      "outputs": [
        {
          "output_type": "stream",
          "name": "stdout",
          "text": [
            "Accuracy: 0.526\n",
            "Precision: 0.554\n",
            "Recall: 0.526\n",
            "F1 Score: 0.531\n",
            "Confusion Matrix:\n",
            " [[16552 16626]\n",
            " [ 9427 12402]]\n",
            "Classification Report:\n",
            "               precision    recall  f1-score   support\n",
            "\n",
            "       False       0.64      0.50      0.56     33178\n",
            "        True       0.43      0.57      0.49     21829\n",
            "\n",
            "    accuracy                           0.53     55007\n",
            "   macro avg       0.53      0.53      0.52     55007\n",
            "weighted avg       0.55      0.53      0.53     55007\n",
            "\n"
          ]
        }
      ]
    }
  ]
}