{
  "nbformat": 4,
  "nbformat_minor": 0,
  "metadata": {
    "colab": {
      "provenance": [],
      "collapsed_sections": [
        "I5LIidVO-EMF",
        "qWuS-nD8k-aC",
        "32UdhMGZCkA-",
        "JclW3gnmc2w2"
      ],
      "authorship_tag": "ABX9TyNi2gQb5XMTKL81XwQBFg+J",
      "include_colab_link": true
    },
    "kernelspec": {
      "name": "python3",
      "display_name": "Python 3"
    },
    "language_info": {
      "name": "python"
    }
  },
  "cells": [
    {
      "cell_type": "markdown",
      "metadata": {
        "id": "view-in-github",
        "colab_type": "text"
      },
      "source": [
        "<a href=\"https://colab.research.google.com/github/Farzins-Lab/Data-Mining-and-Analytics-Final-Project/blob/main/PCA_COSC_526_Final_Model_Implementation%20(3).ipynb\" target=\"_parent\"><img src=\"https://colab.research.google.com/assets/colab-badge.svg\" alt=\"Open In Colab\"/></a>"
      ]
    },
    {
      "cell_type": "markdown",
      "source": [
        "#Setting Up Environment"
      ],
      "metadata": {
        "id": "SaW6VAaZmC5-"
      }
    },
    {
      "cell_type": "code",
      "source": [
        "# File System uploaded directly into Collab\n",
        "import pandas as pd\n",
        "file = ('/content/walmart.csv')\n",
        "\n",
        "df = pd.read_csv(file)\n",
        "\n",
        "\n"
      ],
      "metadata": {
        "id": "VaowbOhDmQAk"
      },
      "execution_count": null,
      "outputs": []
    },
    {
      "cell_type": "code",
      "source": [
        "# Use this block to rename variables to more readable forms\n",
        "\n",
        "\n",
        "df = df.rename(columns= {'User_ID': 'UserID',\n",
        "                    'Product_ID': 'ProductID',\n",
        "                    'City_Category': 'City',\n",
        "       'Stay_In_Current_City_Years': 'YearsOfResidence',\n",
        "                    'Marital_Status':'MaritalStatus',\n",
        "                    'Product_Category': 'ProductCategory',\n",
        "                    'Purchase': 'ReceiptSum'})"
      ],
      "metadata": {
        "id": "RGcAIpZ3mn4-"
      },
      "execution_count": null,
      "outputs": []
    },
    {
      "cell_type": "markdown",
      "source": [
        "# Linear Regression Model"
      ],
      "metadata": {
        "id": "I5LIidVO-EMF"
      }
    },
    {
      "cell_type": "code",
      "source": [
        "import pandas as pd\n",
        "import numpy as np\n",
        "from sklearn.model_selection import train_test_split\n",
        "from sklearn.preprocessing import MinMaxScaler, LabelEncoder, StandardScaler, RobustScaler\n",
        "from sklearn.linear_model import LinearRegression\n",
        "from sklearn.metrics import mean_squared_error, r2_score\n",
        "\n",
        "\n",
        "changedX = df.drop(['ReceiptSum', 'UserID', 'ProductID'], axis=1)\n",
        "y = df['ReceiptSum']\n",
        "\n",
        "# Label Encoding\n",
        "for column in changedX.select_dtypes(include=['object']).columns:\n",
        "    changedX[column] = pd.Categorical(changedX[column]).codes\n",
        "\n",
        "\n",
        "\n",
        "#plit first  90 in temp / 10%  in test\n",
        "changedX_temp, changedX_test, y_temp, y_test = train_test_split(changedX, y, test_size=0.1, random_state=42)\n",
        "\n",
        "\n",
        "#Split next 20%\n",
        "changedX_train, changedX_val, y_train, y_val = train_test_split(changedX_temp, y_temp, test_size= 2/9, random_state=42)\n",
        "\n",
        "\n",
        "\n",
        "\n",
        "# MinMaxScaler\n",
        "scaler = MinMaxScaler()\n",
        "changedX_train = scaler.fit_transform(changedX_train)  # call fittransform on training data only\n",
        "changedX_val = scaler.transform(changedX_val) # use transform on val and test sets to avoid leaking information\n",
        "changedX_test = scaler.transform(changedX_test)\n",
        "\n",
        "\n",
        "# Linear Regression\n",
        "lr_model = LinearRegression()\n",
        "lr_model.fit(changedX_train, y_train)\n",
        "predictions_lr = lr_model.predict(changedX_test)\n",
        "mse_lr = mean_squared_error(y_test, predictions_lr)\n",
        "r2_lr = r2_score(y_test, predictions_lr)\n",
        "\n",
        "\n",
        "\n",
        "print(\"Linear Regression Label Encoding Metrics For Sales Target using MinMaxScaler:\")\n",
        "print(\"MSE:\", mse_lr)\n",
        "print(\"R^2 Score:\", r2_lr)"
      ],
      "metadata": {
        "id": "L40BQRe7nD4_",
        "colab": {
          "base_uri": "https://localhost:8080/"
        },
        "outputId": "ec62b8db-9ea3-4803-b4fa-b9bc4a1d63b5"
      },
      "execution_count": null,
      "outputs": [
        {
          "output_type": "stream",
          "name": "stdout",
          "text": [
            "Linear Regression Label Encoding Metrics For Sales Target using MinMaxScaler:\n",
            "MSE: 22074202.01808073\n",
            "R^2 Score: 0.12054821880925315\n"
          ]
        }
      ]
    },
    {
      "cell_type": "code",
      "source": [
        "import pandas as pd\n",
        "import numpy as np\n",
        "from sklearn.model_selection import train_test_split\n",
        "from sklearn.preprocessing import MinMaxScaler\n",
        "from sklearn.linear_model import LinearRegression\n",
        "from sklearn.metrics import mean_squared_error, r2_score\n",
        "\n",
        "\n",
        "changedX = df.drop(['ReceiptSum', 'UserID', 'ProductID'], axis=1)\n",
        "y = df['ReceiptSum']\n",
        "\n",
        "# One-hot encode\n",
        "changedX = pd.get_dummies(changedX, drop_first=True)  # drop_first to avoid dummy variable trap\n",
        "\n",
        "\n",
        "#Split\n",
        "changedX_temp, changedX_test, y_temp, y_test = train_test_split(changedX, y, test_size=0.1, random_state=42)\n",
        "\n",
        "\n",
        "#Split next 20%\n",
        "changedX_train, changedX_val, y_train, y_val = train_test_split(changedX_temp, y_temp, test_size= 2/9, random_state=42)\n",
        "\n",
        "\n",
        "\n",
        "#MinMaxScaler\n",
        "scaler = StandardScaler()\n",
        "changedX_train = scaler.fit_transform(changedX_train)\n",
        "changedX_val = scaler.transform(changedX_val)\n",
        "changedX_test = scaler.transform(changedX_test)\n",
        "\n",
        "\n",
        "lr_model = LinearRegression()\n",
        "lr_model.fit(changedX_train, y_train)\n",
        "predictions_lr = lr_model.predict(changedX_test)\n",
        "mse_lr = mean_squared_error(y_test, predictions_lr)\n",
        "r2_lr = r2_score(y_test, predictions_lr)\n",
        "\n",
        "print(\"Linear Regression Metrics using StandardScaler:\")\n",
        "print(\"MSE:\", mse_lr)\n",
        "print(\"R^2 Score:\", r2_lr)\n"
      ],
      "metadata": {
        "colab": {
          "base_uri": "https://localhost:8080/"
        },
        "id": "LGsf9i0rEEnU",
        "outputId": "5f469449-0e6e-4b9c-c124-6a3cefa6b632"
      },
      "execution_count": null,
      "outputs": [
        {
          "output_type": "stream",
          "name": "stdout",
          "text": [
            "Linear Regression Metrics using StandardScaler:\n",
            "MSE: 22062071.263333105\n",
            "R^2 Score: 0.12103151663633871\n"
          ]
        }
      ]
    },
    {
      "cell_type": "code",
      "source": [
        "import pandas as pd\n",
        "import numpy as np\n",
        "from sklearn.model_selection import train_test_split\n",
        "from sklearn.preprocessing import RobustScaler\n",
        "from sklearn.linear_model import LinearRegression\n",
        "from sklearn.metrics import mean_squared_error, r2_score\n",
        "\n",
        "\n",
        "changedX = df.drop(['ReceiptSum', 'UserID', 'ProductID'], axis=1)\n",
        "y = df['ReceiptSum']\n",
        "\n",
        "# One-hot encode\n",
        "changedX = pd.get_dummies(changedX, drop_first=True)  # drop_first to avoid dummy variable trap\n",
        "\n",
        "\n",
        "\n",
        "#Split\n",
        "changedX_temp, changedX_test, y_temp, y_test = train_test_split(changedX, y, test_size=0.1, random_state=42)\n",
        "\n",
        "\n",
        "#Split next 20%\n",
        "changedX_train, changedX_val, y_train, y_val = train_test_split(changedX_temp, y_temp, test_size= 2/9, random_state=42)\n",
        "\n",
        "\n",
        "#RobustScaler\n",
        "scaler = RobustScaler()\n",
        "changedX_train = scaler.fit_transform(changedX_train)\n",
        "changedX_val = scaler.transform(changedX_val)\n",
        "changedX_test = scaler.transform(changedX_test)\n",
        "\n",
        "\n",
        "\n",
        "\n",
        "lr_model = LinearRegression()\n",
        "lr_model.fit(changedX_train, y_train)\n",
        "predictions_lr = lr_model.predict(changedX_test)\n",
        "mse_lr = mean_squared_error(y_test, predictions_lr)\n",
        "r2_lr = r2_score(y_test, predictions_lr)\n",
        "\n",
        "print(\"Linear Regression Metrics using RobustScaler:\")\n",
        "print(\"MSE:\", mse_lr)\n",
        "print(\"R^2 Score:\", r2_lr)"
      ],
      "metadata": {
        "colab": {
          "base_uri": "https://localhost:8080/"
        },
        "id": "RkCUi7c4IAZs",
        "outputId": "c573b12b-0662-4611-95ce-ab1af849694e"
      },
      "execution_count": null,
      "outputs": [
        {
          "output_type": "stream",
          "name": "stdout",
          "text": [
            "Linear Regression Metrics using RobustScaler:\n",
            "MSE: 22062071.263333105\n",
            "R^2 Score: 0.12103151663633871\n"
          ]
        }
      ]
    },
    {
      "cell_type": "code",
      "source": [
        "import matplotlib.pyplot as plt\n",
        "\n",
        "models = [\"MinMaxScaler (Label Encoded)\", \"StandardScaler (One Hot Encoded) \", \"RobustScaler (One Hot Encoded)\"]\n",
        "mse = [22074202.01808073, 22062071.263333105, 22062071.263333105]\n",
        "r2 = [0.12054821880925315, 0.12103151663633871, 0.12103151663633871]\n",
        "\n",
        "fig, ax = plt.subplots(figsize=(10, 5))\n",
        "bars = ax.bar(models, r2, color='b', alpha=0.6)\n",
        "\n",
        "for bar, mse_value in zip(bars, mse):\n",
        "    yval = bar.get_height()\n",
        "    ax.text(bar.get_x() + bar.get_width()/2, yval, f'MSE: { mse_value:.2f}',\n",
        "            verticalalignment='bottom', ha='center')\n",
        "\n",
        "\n",
        "ax.set_xlabel('Models')\n",
        "ax.set_ylabel('R2 Score')\n",
        "ax.set_title('Linear Regression Comparison of R2 and MSE')\n",
        "plt.show()\n"
      ],
      "metadata": {
        "colab": {
          "base_uri": "https://localhost:8080/"
        },
        "id": "bziOyh3DSbv0",
        "outputId": "1b7bfa9b-3ebd-42e0-c3bb-54808b57b261"
      },
      "execution_count": null,
      "outputs": [
        {
          "output_type": "display_data",
          "data": {
            "text/plain": [
              "<Figure size 1000x500 with 1 Axes>"
            ],
            "image/png": "[encoded data removed]"
          },
          "metadata": {}
        }
      ]
    },
    {
      "cell_type": "markdown",
      "source": [
        "# PCA Linear Regression"
      ],
      "metadata": {
        "id": "qWuS-nD8k-aC"
      }
    },
    {
      "cell_type": "code",
      "source": [
        "import pandas as pd\n",
        "import numpy as np\n",
        "from sklearn.model_selection import train_test_split\n",
        "from sklearn.preprocessing import RobustScaler\n",
        "from sklearn.linear_model import LinearRegression\n",
        "from sklearn.metrics import mean_squared_error, r2_score\n",
        "\n",
        "\n",
        "changedX = df.drop(['ReceiptSum', 'UserID', 'ProductID'], axis=1)\n",
        "y = df['ReceiptSum']\n",
        "\n",
        "# One-hot encode\n",
        "changedX = pd.get_dummies(changedX, drop_first=True)  # drop_first to avoid dummy variable trap\n",
        "\n",
        "\n",
        "\n",
        "#Split\n",
        "changedX_temp, changedX_test, y_temp, y_test = train_test_split(changedX, y, test_size=0.1, random_state=42)\n",
        "\n",
        "\n",
        "#Split next 20%\n",
        "changedX_train, changedX_val, y_train, y_val = train_test_split(changedX_temp, y_temp, test_size= 2/9, random_state=42)\n",
        "\n",
        "\n",
        "#RobustScaler\n",
        "scaler = RobustScaler()\n",
        "changedX_train = scaler.fit_transform(changedX_train)\n",
        "changedX_val = scaler.transform(changedX_val)\n",
        "changedX_test = scaler.transform(changedX_test)\n",
        "\n",
        "#PCA\n",
        "pca = PCA(n_components=0.95, random_state=42)\n",
        "changedX_train = pca.fit_transform(changedX_train)\n",
        "changedX_val = pca.transform(changedX_val) # val set\n",
        "changedX_test = pca.transform(changedX_test) # Test set\n",
        "\n",
        "\n",
        "\n",
        "lr_model = LinearRegression()\n",
        "lr_model.fit(changedX_train, y_train)\n",
        "\n",
        "# Val Set\n",
        "val_predictions = lr_model.predict(changedX_val)\n",
        "val_mse = mean_squared_error(y_val, val_predictions)\n",
        "val_r2 = r2_score(y_val, val_predictions)\n",
        "\n",
        "\n",
        "#Test Set\n",
        "predictions_lr = lr_model.predict(changedX_test)\n",
        "mse_lr = mean_squared_error(y_test, predictions_lr)\n",
        "r2_lr = r2_score(y_test, predictions_lr)\n",
        "\n",
        "print(\"Validation Metrics:\")\n",
        "print(\"MSE:\", val_mse)\n",
        "print(\"R^2 Score:\", val_r2)\n",
        "print()\n",
        "print(\"Linear Regression Metrics using PCA and RobustScaler:\")\n",
        "print(\"MSE:\", mse_lr)\n",
        "print(\"R^2 Score:\", r2_lr)\n",
        "print()\n",
        "print(f\"Original number of features: {changedX_train.shape[1]}\")\n",
        "print(f\"Reduced number of features: {pca.n_components_}\")\n",
        "\n"
      ],
      "metadata": {
        "colab": {
          "base_uri": "https://localhost:8080/"
        },
        "id": "HsGjwLn7lBf0",
        "outputId": "b6b5265c-db44-42a1-d37b-fbfdc0086577"
      },
      "execution_count": null,
      "outputs": [
        {
          "output_type": "stream",
          "name": "stdout",
          "text": [
            "Validation Metrics:\n",
            "MSE: 22164931.83028695\n",
            "R^2 Score: 0.1229215693648914\n",
            "\n",
            "Linear Regression Metrics using PCA and RobustScaler:\n",
            "MSE: 22071938.812738545\n",
            "R^2 Score: 0.12063838650671987\n",
            "\n",
            "Original number of features: 13\n",
            "Reduced number of features: 13\n"
          ]
        }
      ]
    },
    {
      "cell_type": "code",
      "source": [
        "import pandas as pd\n",
        "import numpy as np\n",
        "from sklearn.model_selection import train_test_split\n",
        "from sklearn.preprocessing import MinMaxScaler\n",
        "from sklearn.linear_model import LinearRegression\n",
        "from sklearn.metrics import mean_squared_error, r2_score\n",
        "\n",
        "\n",
        "changedX = df.drop(['ReceiptSum', 'UserID', 'ProductID'], axis=1)\n",
        "y = df['ReceiptSum']\n",
        "\n",
        "# One-hot encode\n",
        "changedX = pd.get_dummies(changedX, drop_first=True)  # drop_first to avoid dummy variable trap\n",
        "\n",
        "\n",
        "#Split\n",
        "changedX_temp, changedX_test, y_temp, y_test = train_test_split(changedX, y, test_size=0.1, random_state=42)\n",
        "\n",
        "\n",
        "#Split next 20%\n",
        "changedX_train, changedX_val, y_train, y_val = train_test_split(changedX_temp, y_temp, test_size= 2/9, random_state=42)\n",
        "\n",
        "\n",
        "\n",
        "#Standard Scaler\n",
        "scaler = StandardScaler()\n",
        "changedX_train = scaler.fit_transform(changedX_train)\n",
        "changedX_val = scaler.transform(changedX_val)\n",
        "changedX_test = scaler.transform(changedX_test)\n",
        "\n",
        "\n",
        "#PCA\n",
        "pca = PCA(n_components=0.95, random_state=42)\n",
        "changedX_train = pca.fit_transform(changedX_train)\n",
        "changedX_val = pca.transform(changedX_val) # val set\n",
        "changedX_test = pca.transform(changedX_test) # Test set\n",
        "\n",
        "\n",
        "\n",
        "lr_model = LinearRegression()\n",
        "lr_model.fit(changedX_train, y_train)\n",
        "\n",
        "# Val Set\n",
        "val_predictions = lr_model.predict(changedX_val)\n",
        "val_mse = mean_squared_error(y_val, val_predictions)\n",
        "val_r2 = r2_score(y_val, val_predictions)\n",
        "\n",
        "\n",
        "#Test Set\n",
        "predictions_lr = lr_model.predict(changedX_test)\n",
        "mse_lr = mean_squared_error(y_test, predictions_lr)\n",
        "r2_lr = r2_score(y_test, predictions_lr)\n",
        "\n",
        "print(\"Validation Metrics:\")\n",
        "print(\"MSE:\", val_mse)\n",
        "print(\"R^2 Score:\", val_r2)\n",
        "print()\n",
        "print(\"Linear Regression Metrics using PCA and Standard:\")\n",
        "print(\"MSE:\", mse_lr)\n",
        "print(\"R^2 Score:\", r2_lr)\n",
        "print()\n",
        "print(f\"Original number of features: {changedX_train.shape[1]}\")\n",
        "print(f\"Reduced number of features: {pca.n_components_}\")\n"
      ],
      "metadata": {
        "colab": {
          "base_uri": "https://localhost:8080/"
        },
        "id": "mg_-_kmFlTz7",
        "outputId": "a63b8238-4b84-43bd-9d8b-f51da185e394"
      },
      "execution_count": null,
      "outputs": [
        {
          "output_type": "stream",
          "name": "stdout",
          "text": [
            "Validation Metrics:\n",
            "MSE: 22182358.77109022\n",
            "R^2 Score: 0.12223197582102041\n",
            "\n",
            "Linear Regression Metrics using PCA and Standard:\n",
            "MSE: 22093584.581663217\n",
            "R^2 Score: 0.11977600380221909\n",
            "\n",
            "Original number of features: 13\n",
            "Reduced number of features: 13\n"
          ]
        }
      ]
    },
    {
      "cell_type": "code",
      "source": [
        "# PCA\n",
        "pca_full = PCA()\n",
        "pca_full.fit(changedX_train)\n",
        "\n",
        "\n",
        "explained_variance = np.cumsum(pca_full.explained_variance_ratio_)\n",
        "print(\"Cumulative Explained Variance by Number of Components:\")\n",
        "for i, val in enumerate(explained_variance):\n",
        "    print(f\"Component {i+1}: {val:.4f}\")\n",
        "\n",
        "\n",
        "import matplotlib.pyplot as plt\n",
        "# Plot\n",
        "plt.figure(figsize=(10, 6))\n",
        "plt.plot(np.cumsum(pca_full.explained_variance_ratio_), marker='o')\n",
        "plt.xlabel('Number of Principal Components')\n",
        "plt.ylabel('Cumulative Explained Variance')\n",
        "plt.title('Explained Variance vs. Number of Components')\n",
        "plt.axhline(y=0.95, color='r', linestyle='--', label='95% Threshold')\n",
        "plt.grid(True)\n",
        "plt.legend()\n",
        "plt.tight_layout()\n",
        "plt.show()\n"
      ],
      "metadata": {
        "colab": {
          "base_uri": "https://localhost:8080/"
        },
        "id": "WgFvw7SPa4vX",
        "outputId": "f913427c-8394-4e4d-bb0c-9b7976a887ad"
      },
      "execution_count": null,
      "outputs": [
        {
          "output_type": "stream",
          "name": "stdout",
          "text": [
            "Cumulative Explained Variance by Number of Components:\n",
            "Component 1: 0.1083\n",
            "Component 2: 0.2048\n",
            "Component 3: 0.2995\n",
            "Component 4: 0.3890\n",
            "Component 5: 0.4718\n",
            "Component 6: 0.5506\n",
            "Component 7: 0.6264\n",
            "Component 8: 0.6979\n",
            "Component 9: 0.7676\n",
            "Component 10: 0.8346\n",
            "Component 11: 0.8972\n",
            "Component 12: 0.9533\n",
            "Component 13: 1.0000\n"
          ]
        },
        {
          "output_type": "display_data",
          "data": {
            "text/plain": [
              "<Figure size 1000x600 with 1 Axes>"
            ],
            "image/png": "[encoded data removed]"
          },
          "metadata": {}
        }
      ]
    },
    {
      "cell_type": "markdown",
      "source": [
        "# Best Logistic Regression Models from Testing"
      ],
      "metadata": {
        "id": "32UdhMGZCkA-"
      }
    },
    {
      "cell_type": "code",
      "source": [
        "## Using Median MinMax Scaler\n",
        "\n",
        "import pandas as pd\n",
        "from sklearn.preprocessing import StandardScaler, MinMaxScaler, RobustScaler\n",
        "from sklearn.preprocessing import OneHotEncoder, StandardScaler\n",
        "from sklearn.compose import ColumnTransformer\n",
        "from sklearn.linear_model import LogisticRegression\n",
        "from sklearn.model_selection import train_test_split\n",
        "from sklearn.metrics import mean_squared_error, r2_score\n",
        "from sklearn.metrics import accuracy_score, precision_score, recall_score, f1_score, confusion_matrix, classification_report\n",
        "\n",
        "\n",
        "XLogisticRegression = df.drop(['ReceiptSum', 'UserID', 'ProductID'], axis=1)\n",
        "y = df['ReceiptSum'] > df['ReceiptSum'].median()  # Categorize as high (1) or low (0) spending\n",
        "#y=y.squeeze()\n",
        "\n",
        "# One-hot encode categorical features\n",
        "XLogisticRegression = pd.get_dummies(XLogisticRegression, drop_first=True)  # drop_first to avoid dummy variable trap\n",
        "\n",
        "\n",
        "\n",
        "#plit first  90 in temp / 10%  in test\n",
        "changedX_temp, changedX_test, y_temp, y_test = train_test_split(XLogisticRegression, y, test_size=0.1, random_state=42)\n",
        "\n",
        "\n",
        "#Split next 20%\n",
        "changedX_train, changedX_val, y_train, y_val = train_test_split(changedX_temp, y_temp, test_size= 2/9, random_state=42)\n",
        "\n",
        "model = LogisticRegression(max_iter=1000)\n",
        "\n",
        "\n",
        "scaler = MinMaxScaler()\n",
        "X_train = scaler.fit_transform(changedX_train)\n",
        "X_test = scaler.transform(changedX_test)\n",
        "\n",
        "\n",
        "model.fit(X_train, y_train)\n",
        "y_pred = model.predict(X_test)\n",
        "\n",
        "# Calculate metrics\n",
        "#mse = mean_squared_error(y_test, y_pred)\n",
        "#r2 = r2_score(y_test, y_pred)\n",
        "\n",
        "intercept = model.intercept_\n",
        "coefficients = model.coef_\n",
        "accuracy = accuracy_score(y_test, y_pred)\n",
        "precision = precision_score(y_test, y_pred, average='weighted')\n",
        "recall = recall_score(y_test, y_pred, average='weighted')\n",
        "f1 = f1_score(y_test, y_pred, average='weighted')\n",
        "\n",
        "\n",
        "# Print the results\n",
        "#print(\"Mean Squared Error (MSE):\", mse)\n",
        "#print(\"R-squared (R²):\", r2)\n",
        "#print(\"Y Intercept:\", intercept)\n",
        "#print(\"Coefficients:\", coefficients)\n",
        "\n",
        "\n",
        "print(f\"Accuracy: {accuracy:.3f}\")\n",
        "print(f\"Precision: {precision:.3f}\")\n",
        "print(f\"Recall: {recall:.3f}\")\n",
        "print(f\"F1 Score: {f1:.3f}\")\n",
        "print(\"Confusion Matrix:\\n\", confusion_matrix(y_test, y_pred))\n",
        "print(\"Classification Report:\\n\", classification_report(y_test, y_pred))\n",
        "\n"
      ],
      "metadata": {
        "colab": {
          "base_uri": "https://localhost:8080/"
        },
        "id": "QkDqcFN1JGfu",
        "outputId": "7f7c1404-5ff8-4a03-8412-009159a665ef"
      },
      "execution_count": null,
      "outputs": [
        {
          "output_type": "stream",
          "name": "stdout",
          "text": [
            "Accuracy: 0.639\n",
            "Precision: 0.639\n",
            "Recall: 0.639\n",
            "F1 Score: 0.639\n",
            "Confusion Matrix:\n",
            " [[17058 10475]\n",
            " [ 9386 18088]]\n",
            "Classification Report:\n",
            "               precision    recall  f1-score   support\n",
            "\n",
            "       False       0.65      0.62      0.63     27533\n",
            "        True       0.63      0.66      0.65     27474\n",
            "\n",
            "    accuracy                           0.64     55007\n",
            "   macro avg       0.64      0.64      0.64     55007\n",
            "weighted avg       0.64      0.64      0.64     55007\n",
            "\n"
          ]
        }
      ]
    },
    {
      "cell_type": "code",
      "source": [
        "## Using Mean Standard Scaler\n",
        "\n",
        "import pandas as pd\n",
        "from sklearn.preprocessing import StandardScaler\n",
        "from sklearn.preprocessing import OneHotEncoder, StandardScaler\n",
        "from sklearn.compose import ColumnTransformer\n",
        "from sklearn.linear_model import LogisticRegression\n",
        "from sklearn.model_selection import train_test_split\n",
        "from sklearn.metrics import mean_squared_error, r2_score\n",
        "from sklearn.metrics import accuracy_score, precision_score, recall_score, f1_score, confusion_matrix, classification_report\n",
        "\n",
        "\n",
        "XLogisticRegression = df.drop(['ReceiptSum', 'UserID', 'ProductID'], axis=1)\n",
        "y = df['ReceiptSum'] > df['ReceiptSum'].mean()  # Categorize as high (1) or low (0) spending\n",
        "#y=y.squeeze()\n",
        "\n",
        "\n",
        "# One-hot encode categorical features\n",
        "XLogisticRegression = pd.get_dummies(XLogisticRegression, drop_first=True)  # drop_first to avoid dummy variable trap\n",
        "\n",
        "#plit first  90 in temp / 10%  in test\n",
        "changedX_temp, changedX_test, y_temp, y_test = train_test_split(XLogisticRegression, y, test_size=0.1, random_state=42)\n",
        "\n",
        "#Split next 20%\n",
        "changedX_train, changedX_val, y_train, y_val = train_test_split(changedX_temp, y_temp, test_size= 2/9, random_state=42)\n",
        "\n",
        "model = LogisticRegression(max_iter=1000)\n",
        "\n",
        "#scaler\n",
        "scaler = StandardScaler()\n",
        "X_train = scaler.fit_transform(changedX_train)\n",
        "X_test = scaler.transform(changedX_test)\n",
        "\n",
        "\n",
        "model.fit(X_train, y_train)\n",
        "y_pred = model.predict(X_test)\n",
        "\n",
        "# Calculate metrics\n",
        "#mse = mean_squared_error(y_test, y_pred)\n",
        "#r2 = r2_score(y_test, y_pred)\n",
        "\n",
        "intercept = model.intercept_\n",
        "coefficients = model.coef_\n",
        "accuracy = accuracy_score(y_test, y_pred)\n",
        "precision = precision_score(y_test, y_pred, average='weighted')\n",
        "recall = recall_score(y_test, y_pred, average='weighted')\n",
        "f1 = f1_score(y_test, y_pred, average='weighted')\n",
        "\n",
        "\n",
        "# Print the results\n",
        "#print(\"Mean Squared Error (MSE):\", mse)\n",
        "#print(\"R-squared (R²):\", r2)\n",
        "#print(\"Y Intercept:\", intercept)\n",
        "#print(\"Coefficients:\", coefficients)\n",
        "\n",
        "print(f\"Accuracy: {accuracy:.3f}\")\n",
        "print(f\"Precision : {precision:.3f}\")\n",
        "print(f\"Recall: {recall:.3f}\")\n",
        "print(f\"F1 Score: {f1:.3f}\")\n",
        "\n",
        "print(\"Confusion Matrix:\\n\", confusion_matrix(y_test, y_pred))\n",
        "print(\"Classification Report:\\n\", classification_report(y_test, y_pred))\n",
        "\n"
      ],
      "metadata": {
        "colab": {
          "base_uri": "https://localhost:8080/"
        },
        "id": "htI8EPd1NMPw",
        "outputId": "26559b03-a67c-45b6-e1f4-c0203050dc78"
      },
      "execution_count": null,
      "outputs": [
        {
          "output_type": "stream",
          "name": "stdout",
          "text": [
            "Accuracy: 0.787\n",
            "Precision : 0.788\n",
            "Recall: 0.787\n",
            "F1 Score: 0.781\n",
            "Confusion Matrix:\n",
            " [[29745  3433]\n",
            " [ 8285 13544]]\n",
            "Classification Report:\n",
            "               precision    recall  f1-score   support\n",
            "\n",
            "       False       0.78      0.90      0.84     33178\n",
            "        True       0.80      0.62      0.70     21829\n",
            "\n",
            "    accuracy                           0.79     55007\n",
            "   macro avg       0.79      0.76      0.77     55007\n",
            "weighted avg       0.79      0.79      0.78     55007\n",
            "\n"
          ]
        }
      ]
    },
    {
      "cell_type": "markdown",
      "source": [
        "# PCA Logistic Regression"
      ],
      "metadata": {
        "id": "JclW3gnmc2w2"
      }
    },
    {
      "cell_type": "code",
      "source": [
        "## Using Mean Standard Scaler with PCA\n",
        "\n",
        "import pandas as pd\n",
        "from sklearn.preprocessing import StandardScaler\n",
        "from sklearn.decomposition import PCA\n",
        "from sklearn.linear_model import LogisticRegression\n",
        "from sklearn.model_selection import train_test_split\n",
        "from sklearn.metrics import accuracy_score, precision_score, recall_score, f1_score, confusion_matrix, classification_report\n",
        "\n",
        "XLogisticRegression = df.drop(['ReceiptSum', 'UserID', 'ProductID'], axis=1)\n",
        "y = df['ReceiptSum'] > df['ReceiptSum'].mean()  # Categorize as high (1) or low (0) spending\n",
        "\n",
        "\n",
        "# One-hot encode categorical features\n",
        "XLogisticRegression = pd.get_dummies(XLogisticRegression, drop_first=True)  # drop_first to avoid dummy variable trap\n",
        "\n",
        "#plit first  90 in temp / 10%  in test\n",
        "changedX_temp, changedX_test, y_temp, y_test = train_test_split(XLogisticRegression, y, test_size=0.1, random_state=42)\n",
        "\n",
        "#Split next 20%\n",
        "changedX_train, changedX_val, y_train, y_val = train_test_split(changedX_temp, y_temp, test_size= 2/9, random_state=42)\n",
        "\n",
        "\n",
        "#scaler\n",
        "scaler = StandardScaler()\n",
        "X_train = scaler.fit_transform(changedX_train)\n",
        "X_val = scaler.transform(changedX_val)\n",
        "X_test = scaler.transform(changedX_test)\n",
        "\n",
        "\n",
        "#PCA\n",
        "pca = PCA(n_components=0.95, random_state=42)\n",
        "X_train_pca = pca.fit_transform(X_train)\n",
        "\n",
        "X_val_pca = pca.transform(X_val)\n",
        "X_test_pca = pca.transform(X_test)\n",
        "\n",
        "\n",
        "\n",
        "# Train\n",
        "model = LogisticRegression(max_iter=1000)\n",
        "model.fit(X_train_pca, y_train)\n",
        "y_pred = model.predict(X_test_pca)\n",
        "\n",
        "# Eval\n",
        "intercept = model.intercept_\n",
        "coefficients = model.coef_\n",
        "accuracy = accuracy_score(y_test, y_pred)\n",
        "precision = precision_score(y_test, y_pred, average='weighted')\n",
        "recall = recall_score(y_test, y_pred, average='weighted')\n",
        "f1 = f1_score(y_test, y_pred, average='weighted')\n",
        "\n",
        "\n",
        "print(f\"Accuracy: {accuracy:.3f}\")\n",
        "print(f\"Precision : {precision:.3f}\")\n",
        "print(f\"Recall: {recall:.3f}\")\n",
        "print(f\"F1 Score: {f1:.3f}\")\n",
        "print(\"Confusion Matrix:\\n\", confusion_matrix(y_test, y_pred))\n",
        "print(\"Classification Report:\\n\", classification_report(y_test, y_pred))\n"
      ],
      "metadata": {
        "colab": {
          "base_uri": "https://localhost:8080/"
        },
        "id": "7n0RVpXTqA3w",
        "outputId": "4aeeff34-bd56-4e6f-d283-5adf1d89a519"
      },
      "execution_count": null,
      "outputs": [
        {
          "output_type": "stream",
          "name": "stdout",
          "text": [
            "Accuracy: 0.788\n",
            "Precision : 0.789\n",
            "Recall: 0.788\n",
            "F1 Score: 0.782\n",
            "Confusion Matrix:\n",
            " [[29752  3426]\n",
            " [ 8262 13567]]\n",
            "Classification Report:\n",
            "               precision    recall  f1-score   support\n",
            "\n",
            "       False       0.78      0.90      0.84     33178\n",
            "        True       0.80      0.62      0.70     21829\n",
            "\n",
            "    accuracy                           0.79     55007\n",
            "   macro avg       0.79      0.76      0.77     55007\n",
            "weighted avg       0.79      0.79      0.78     55007\n",
            "\n"
          ]
        }
      ]
    },
    {
      "cell_type": "code",
      "source": [
        "import pandas as pd\n",
        "\n",
        "from sklearn.preprocessing import OneHotEncoder, StandardScaler, MinMaxScaler\n",
        "from sklearn.compose import ColumnTransformer\n",
        "from sklearn.linear_model import LogisticRegression\n",
        "from sklearn.model_selection import train_test_split\n",
        "from sklearn.metrics import mean_squared_error, r2_score\n",
        "from sklearn.metrics import accuracy_score, precision_score, recall_score, f1_score, confusion_matrix, classification_report\n",
        "from sklearn.decomposition import PCA\n",
        "\n",
        "XLogisticRegression = df.drop(['ReceiptSum', 'UserID', 'ProductID'], axis=1)\n",
        "y = df['ReceiptSum'] > df['ReceiptSum'].mean()\n",
        "\n",
        "\n",
        "# One-hot encode categorical features\n",
        "XLogisticRegression = pd.get_dummies(XLogisticRegression, drop_first=True)  # drop_first to avoid dummy variable trap\n",
        "\n",
        "\n",
        "\n",
        "\n",
        "#plit first  90 in temp / 10%  in test\n",
        "changedX_temp, changedX_test, y_temp, y_test = train_test_split(XLogisticRegression, y, test_size=0.1, random_state=42)\n",
        "\n",
        "\n",
        "#Split next 20%\n",
        "changedX_train, changedX_val, y_train, y_val = train_test_split(changedX_temp, y_temp, test_size= 2/9, random_state=42)\n",
        "\n",
        "\n",
        "\n",
        "# MinMaxScaler\n",
        "scaler = MinMaxScaler()\n",
        "scaledX_train = scaler.fit_transform(changedX_train)  # call fittransform on training data only\n",
        "scaledX_val = scaler.transform(changedX_val) # use transform on val and test sets to avoid leaking information\n",
        "scaledX_test = scaler.transform(changedX_test)\n",
        "\n",
        "\n",
        "\n",
        "#PCA\n",
        "pca = PCA(n_components=0.95, random_state=42)\n",
        "X_train_pca = pca.fit_transform(scaledX_train)\n",
        "\n",
        "X_val_pca = pca.transform(scaledX_val)\n",
        "X_test_pca = pca.transform(scaledX_test)\n",
        "\n",
        "\n",
        "\n",
        "print(f\"Original number of features: {changedX_train.shape[1]}\")\n",
        "print(f\"Reduced number of features: {pca.n_components_}\")\n",
        "\n",
        "\n",
        "\n",
        "# Train Logistic Regression\n",
        "model = LogisticRegression(max_iter=1000, class_weight='balanced')\n",
        "model.fit(X_train_pca, y_train)\n",
        "\n",
        "# Val Prediction # Test Prediction\n",
        "y_valpred = model.predict(X_val_pca)\n",
        "\n",
        "y_testpred = model.predict(X_test_pca)\n",
        "\n",
        "\n",
        "#print(\"Actual test distribution:\\n\", y_test.value_counts())\n",
        "#print(\"Predicted test distribution:\\n\", pd.Series(y_testpred).value_counts())\n",
        "\n",
        "\n",
        "# Val Prediction\n",
        "intercept = model.intercept_\n",
        "coefficients = model.coef_\n",
        "accuracy = accuracy_score(y_test, y_testpred)\n",
        "precision = precision_score(y_test, y_testpred, average='weighted')\n",
        "recall = recall_score(y_test, y_testpred, average='weighted')\n",
        "f1 = f1_score(y_test, y_testpred, average='weighted')\n",
        "\n",
        "\n",
        "print(f\"Accuracy: {accuracy:.3f}\")\n",
        "print(f\"Precision : {precision:.3f}\")\n",
        "print(f\"Recall: {recall:.3f}\")\n",
        "print(f\"F1 Score: {f1:.3f}\")\n",
        "\n",
        "print(\"Confusion Matrix:\\n\", confusion_matrix(y_test, y_testpred))\n",
        "print(\"Classification Report:\\n\", classification_report(y_test, y_testpred))\n",
        "\n",
        "\n",
        "\n"
      ],
      "metadata": {
        "colab": {
          "base_uri": "https://localhost:8080/"
        },
        "id": "6HUE7FO1c7ED",
        "outputId": "9e6553e1-3daf-424c-bfac-c4906f2cd6fe"
      },
      "execution_count": null,
      "outputs": [
        {
          "output_type": "stream",
          "name": "stdout",
          "text": [
            "Original number of features: 16\n",
            "Reduced number of features: 12\n",
            "Accuracy: 0.526\n",
            "Precision : 0.554\n",
            "Recall: 0.526\n",
            "F1 Score: 0.531\n",
            "Confusion Matrix:\n",
            " [[16552 16626]\n",
            " [ 9427 12402]]\n",
            "Classification Report:\n",
            "               precision    recall  f1-score   support\n",
            "\n",
            "       False       0.64      0.50      0.56     33178\n",
            "        True       0.43      0.57      0.49     21829\n",
            "\n",
            "    accuracy                           0.53     55007\n",
            "   macro avg       0.53      0.53      0.52     55007\n",
            "weighted avg       0.55      0.53      0.53     55007\n",
            "\n"
          ]
        }
      ]
    },
    {
      "cell_type": "code",
      "source": [
        "## Using Mean MinMaxScaler\n",
        "\n",
        "import pandas as pd\n",
        "from sklearn.preprocessing import MinMaxScaler\n",
        "from sklearn.preprocessing import OneHotEncoder, StandardScaler\n",
        "from sklearn.compose import ColumnTransformer\n",
        "from sklearn.linear_model import LogisticRegression\n",
        "from sklearn.model_selection import train_test_split\n",
        "from sklearn.metrics import mean_squared_error, r2_score\n",
        "from sklearn.metrics import accuracy_score, precision_score, recall_score, f1_score, confusion_matrix, classification_report\n",
        "from sklearn.decomposition import PCA\n",
        "\n",
        "XLogisticRegression = df.drop(['ReceiptSum', 'UserID', 'ProductID'], axis=1)\n",
        "y = df['ReceiptSum'] > df['ReceiptSum'].mean()  # Categorize as high (1) or low (0) spending\n",
        "#y=y.squeeze()\n",
        "\n",
        "# One-hot encode categorical features\n",
        "XLogisticRegression = pd.get_dummies(XLogisticRegression, drop_first=True)  # drop_first to avoid dummy variable trap\n",
        "\n",
        "\n",
        "\n",
        "#plit first  90 in temp / 10%  in test\n",
        "changedX_temp, changedX_test, y_temp, y_test = train_test_split(XLogisticRegression, y, test_size=0.1, random_state=42)\n",
        "\n",
        "\n",
        "#Split next 20%\n",
        "changedX_train, changedX_val, y_train, y_val = train_test_split(changedX_temp, y_temp, test_size= 2/9, random_state=42)\n",
        "\n",
        "\n",
        "#MinMax Scaler\n",
        "scaler = MinMaxScaler()\n",
        "X_train = scaler.fit_transform(changedX_train)\n",
        "X_val = scaler.transform(changedX_val)\n",
        "\n",
        "X_test = scaler.transform(changedX_test)\n",
        "\n",
        "\n",
        "\n",
        "#PCA Data\n",
        "pca = PCA(n_components=0.95, random_state=42)\n",
        "X_trainpca = pca.fit_transform(X_train)\n",
        "X_valpca = pca.transform(X_val)\n",
        "X_testpca = pca.transform(X_test)\n",
        "\n",
        "#Train x\n",
        "\n",
        "model = LogisticRegression(max_iter=1000, class_weight='balanced')\n",
        "model.fit(X_trainpca, y_train)\n",
        "y_pred = model.predict(X_testpca)\n",
        "\n",
        "# Calculate metrics\n",
        "#mse = mean_squared_error(y_test, y_pred)\n",
        "#r2 = r2_score(y_test, y_pred)\n",
        "\n",
        "intercept = model.intercept_\n",
        "coefficients = model.coef_\n",
        "accuracy = accuracy_score(y_test, y_pred)\n",
        "precision = precision_score(y_test, y_pred, average='weighted')\n",
        "recall = recall_score(y_test, y_pred, average='weighted')\n",
        "f1 = f1_score(y_test, y_pred, average='weighted')\n",
        "\n",
        "\n",
        "# Print the results\n",
        "#print(\"Mean Squared Error (MSE):\", mse)\n",
        "#print(\"R-squared (R²):\", r2)\n",
        "#print(\"Y Intercept:\", intercept)\n",
        "#print(\"Coefficients:\", coefficients)\n",
        "\n",
        "print(f\"Accuracy: {accuracy:.3f}\")\n",
        "print(f\"Precision: {precision:.3f}\")\n",
        "print(f\"Recall: {recall:.3f}\")\n",
        "print(f\"F1 Score: {f1:.3f}\")\n",
        "print(\"Confusion Matrix:\\n\", confusion_matrix(y_test, y_pred))\n",
        "print(\"Classification Report:\\n\", classification_report(y_test, y_pred))\n"
      ],
      "metadata": {
        "colab": {
          "base_uri": "https://localhost:8080/"
        },
        "id": "yRIwAh3qfP4c",
        "outputId": "712cdb3a-3146-4af0-ff4e-f442835439af"
      },
      "execution_count": null,
      "outputs": [
        {
          "output_type": "stream",
          "name": "stdout",
          "text": [
            "Accuracy: 0.526\n",
            "Precision: 0.554\n",
            "Recall: 0.526\n",
            "F1 Score: 0.531\n",
            "Confusion Matrix:\n",
            " [[16552 16626]\n",
            " [ 9427 12402]]\n",
            "Classification Report:\n",
            "               precision    recall  f1-score   support\n",
            "\n",
            "       False       0.64      0.50      0.56     33178\n",
            "        True       0.43      0.57      0.49     21829\n",
            "\n",
            "    accuracy                           0.53     55007\n",
            "   macro avg       0.53      0.53      0.52     55007\n",
            "weighted avg       0.55      0.53      0.53     55007\n",
            "\n"
          ]
        }
      ]
    }
  ]
}