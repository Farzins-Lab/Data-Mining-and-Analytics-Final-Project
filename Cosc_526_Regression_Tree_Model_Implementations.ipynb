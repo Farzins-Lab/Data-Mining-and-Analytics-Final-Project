{
  "nbformat": 4,
  "nbformat_minor": 0,
  "metadata": {
    "colab": {
      "provenance": [],
      "collapsed_sections": [
        "SaW6VAaZmC5-",
        "uVcrubXDI_Fg",
        "I5LIidVO-EMF",
        "IxfXmhJe-TO6"
      ],
      "authorship_tag": "ABX9TyOehCmuE7gtNm+xDnk//K6C"
    },
    "kernelspec": {
      "name": "python3",
      "display_name": "Python 3"
    },
    "language_info": {
      "name": "python"
    }
  },
  "cells": [
    {
      "cell_type": "markdown",
      "source": [
        "#Setting Up Environment"
      ],
      "metadata": {
        "id": "SaW6VAaZmC5-"
      }
    },
    {
      "cell_type": "code",
      "source": [
        "# File System uploaded directly into Collab\n",
        "# Will it remain on a refresh or close and open? So far yes however you did upload the files into the directory as well\n",
        "import pandas as pd\n",
        "file = ('/content/walmart.csv')\n",
        "\n",
        "df = pd.read_csv(file)\n",
        "\n",
        "\n",
        "# We have columns and indexes (0,1,2,3..)"
      ],
      "metadata": {
        "id": "VaowbOhDmQAk"
      },
      "execution_count": null,
      "outputs": []
    },
    {
      "cell_type": "code",
      "source": [
        "df = df.rename(columns= {'User_ID': 'UserID',\n",
        "                    'Product_ID': 'ProductID',\n",
        "\n",
        "\n",
        "                    'City_Category': 'City',\n",
        "       'Stay_In_Current_City_Years': 'YearsOfResidence',\n",
        "                    'Marital_Status':'MaritalStatus',\n",
        "                    'Product_Category': 'ProductCategory',\n",
        "                    'Purchase': 'ReceiptSum'})"
      ],
      "metadata": {
        "id": "RGcAIpZ3mn4-"
      },
      "execution_count": null,
      "outputs": []
    },
    {
      "cell_type": "markdown",
      "source": [
        "# Demo Improvement From Median To Mean Classification"
      ],
      "metadata": {
        "id": "uVcrubXDI_Fg"
      }
    },
    {
      "cell_type": "code",
      "source": [
        "## Using Median MinMax Scaler\n",
        "\n",
        "import pandas as pd\n",
        "from sklearn.preprocessing import StandardScaler, MinMaxScaler, RobustScaler\n",
        "from sklearn.preprocessing import OneHotEncoder, StandardScaler\n",
        "from sklearn.compose import ColumnTransformer\n",
        "from sklearn.linear_model import LogisticRegression\n",
        "from sklearn.model_selection import train_test_split\n",
        "from sklearn.metrics import mean_squared_error, r2_score\n",
        "from sklearn.metrics import accuracy_score, precision_score, recall_score, f1_score, confusion_matrix, classification_report\n",
        "\n",
        "\n",
        "XLogisticRegression = df.drop(['ReceiptSum', 'UserID', 'ProductID'], axis=1)\n",
        "y = df['ReceiptSum'] > df['ReceiptSum'].median()  # Categorize as high (1) or low (0) spending\n",
        "#y=y.squeeze()\n",
        "\n",
        "# One-hot encode categorical features\n",
        "XLogisticRegression = pd.get_dummies(XLogisticRegression, drop_first=True)  # drop_first to avoid dummy variable trap\n",
        "\n",
        "\n",
        "\n",
        "X_train, X_test, y_train, y_test = train_test_split(XLogisticRegression, y, test_size=0.2, random_state=42)\n",
        "model = LogisticRegression(max_iter=1000)\n",
        "\n",
        "\n",
        "scaler = MinMaxScaler()\n",
        "X_train = scaler.fit_transform(X_train)\n",
        "X_test = scaler.transform(X_test)\n",
        "\n",
        "\n",
        "model.fit(X_train, y_train)\n",
        "y_pred = model.predict(X_test)\n",
        "\n",
        "# Calculate metrics\n",
        "#mse = mean_squared_error(y_test, y_pred)\n",
        "#r2 = r2_score(y_test, y_pred)\n",
        "\n",
        "intercept = model.intercept_\n",
        "coefficients = model.coef_\n",
        "accuracy = accuracy_score(y_test, y_pred)\n",
        "precision = precision_score(y_test, y_pred, average='weighted')\n",
        "recall = recall_score(y_test, y_pred, average='weighted')\n",
        "f1 = f1_score(y_test, y_pred, average='weighted')\n",
        "\n",
        "\n",
        "# Print the results\n",
        "#print(\"Mean Squared Error (MSE):\", mse)\n",
        "#print(\"R-squared (R²):\", r2)\n",
        "#print(\"Y Intercept:\", intercept)\n",
        "#print(\"Coefficients:\", coefficients)\n",
        "\n",
        "\n",
        "print(f\"Accuracy: {accuracy:.3f}\")\n",
        "print(f\"Precision: {precision:.3f}\")\n",
        "print(f\"Recall: {recall:.3f}\")\n",
        "print(f\"F1 Score: {f1:.3f}\")\n",
        "print(\"Confusion Matrix:\\n\", confusion_matrix(y_test, y_pred))\n",
        "print(\"Classification Report:\\n\", classification_report(y_test, y_pred))\n",
        "\n"
      ],
      "metadata": {
        "colab": {
          "base_uri": "https://localhost:8080/"
        },
        "id": "QkDqcFN1JGfu",
        "outputId": "25a5aab5-8413-4d43-eb99-2a8442447d60"
      },
      "execution_count": null,
      "outputs": [
        {
          "output_type": "stream",
          "name": "stdout",
          "text": [
            "Accuracy: 0.641\n",
            "Precision: 0.641\n",
            "Recall: 0.641\n",
            "F1 Score: 0.641\n",
            "Confusion Matrix:\n",
            " [[34557 20589]\n",
            " [18929 35939]]\n",
            "Classification Report:\n",
            "               precision    recall  f1-score   support\n",
            "\n",
            "       False       0.65      0.63      0.64     55146\n",
            "        True       0.64      0.66      0.65     54868\n",
            "\n",
            "    accuracy                           0.64    110014\n",
            "   macro avg       0.64      0.64      0.64    110014\n",
            "weighted avg       0.64      0.64      0.64    110014\n",
            "\n"
          ]
        }
      ]
    },
    {
      "cell_type": "code",
      "source": [
        "## Using Mean MinMaxScaler\n",
        "\n",
        "import pandas as pd\n",
        "from sklearn.preprocessing import OneHotEncoder, MinMaxScaler\n",
        "from sklearn.linear_model import LogisticRegression\n",
        "from sklearn.model_selection import train_test_split\n",
        "from sklearn.metrics import mean_squared_error, r2_score\n",
        "from sklearn.metrics import accuracy_score, precision_score, recall_score, f1_score, confusion_matrix, classification_report\n",
        "\n",
        "\n",
        "XLogisticRegression = df.drop(['ReceiptSum', 'UserID', 'ProductID'], axis=1)\n",
        "y = df['ReceiptSum'] > df['ReceiptSum'].mean()  # Categorize as high (1) or low (0) spending\n",
        "#y=y.squeeze()\n",
        "\n",
        "# One-hot encode categorical features\n",
        "XLogisticRegression = pd.get_dummies(XLogisticRegression, drop_first=True)  # drop_first to avoid dummy variable trap\n",
        "\n",
        "\n",
        "\n",
        "X_train, X_test, y_train, y_test = train_test_split(XLogisticRegression, y, test_size=0.2, random_state=42)\n",
        "model = LogisticRegression(max_iter=1000)\n",
        "\n",
        "\n",
        "scaler = MinMaxScaler()\n",
        "X_train = scaler.fit_transform(X_train)\n",
        "X_test = scaler.transform(X_test)\n",
        "\n",
        "\n",
        "model.fit(X_train, y_train)\n",
        "y_pred = model.predict(X_test)\n",
        "\n",
        "# Calculate metrics\n",
        "#mse = mean_squared_error(y_test, y_pred)\n",
        "#r2 = r2_score(y_test, y_pred)\n",
        "\n",
        "intercept = model.intercept_\n",
        "coefficients = model.coef_\n",
        "accuracy = accuracy_score(y_test, y_pred)\n",
        "precision = precision_score(y_test, y_pred, average='weighted')\n",
        "recall = recall_score(y_test, y_pred, average='weighted')\n",
        "f1 = f1_score(y_test, y_pred, average='weighted')\n",
        "\n",
        "\n",
        "# Print the results\n",
        "#print(\"Mean Squared Error (MSE):\", mse)\n",
        "#print(\"R-squared (R²):\", r2)\n",
        "#print(\"Y Intercept:\", intercept)\n",
        "#print(\"Coefficients:\", coefficients)\n",
        "\n",
        "print(f\"Accuracy: {accuracy:.3f}\")\n",
        "print(f\"Precision: {precision:.3f}\")\n",
        "print(f\"Recall: {recall:.3f}\")\n",
        "print(f\"F1 Score: {f1:.3f}\")\n",
        "print(\"Confusion Matrix:\\n\", confusion_matrix(y_test, y_pred))\n",
        "print(\"Classification Report:\\n\", classification_report(y_test, y_pred))\n"
      ],
      "metadata": {
        "colab": {
          "base_uri": "https://localhost:8080/"
        },
        "id": "NYvkd_R2JA9Y",
        "outputId": "c6fdcffa-383e-4f88-affa-acd98fdedbcc"
      },
      "execution_count": null,
      "outputs": [
        {
          "output_type": "stream",
          "name": "stdout",
          "text": [
            "Accuracy: 0.788\n",
            "Precision: 0.789\n",
            "Recall: 0.788\n",
            "F1 Score: 0.781\n",
            "Confusion Matrix:\n",
            " [[59647  6775]\n",
            " [16599 26993]]\n",
            "Classification Report:\n",
            "               precision    recall  f1-score   support\n",
            "\n",
            "       False       0.78      0.90      0.84     66422\n",
            "        True       0.80      0.62      0.70     43592\n",
            "\n",
            "    accuracy                           0.79    110014\n",
            "   macro avg       0.79      0.76      0.77    110014\n",
            "weighted avg       0.79      0.79      0.78    110014\n",
            "\n"
          ]
        }
      ]
    },
    {
      "cell_type": "markdown",
      "source": [
        "# Linear Regression Model"
      ],
      "metadata": {
        "id": "I5LIidVO-EMF"
      }
    },
    {
      "cell_type": "code",
      "source": [
        "import pandas as pd\n",
        "import numpy as np\n",
        "from sklearn.model_selection import train_test_split\n",
        "from sklearn.preprocessing import MinMaxScaler, LabelEncoder, StandardScaler, RobustScaler\n",
        "from sklearn.linear_model import LinearRegression\n",
        "from sklearn.metrics import mean_squared_error, r2_score\n",
        "\n",
        "\n",
        "changedX = df.drop(['ReceiptSum', 'UserID', 'ProductID'], axis=1)\n",
        "y = df['ReceiptSum']\n",
        "\n",
        "# Label Encoding\n",
        "for column in changedX.select_dtypes(include=['object']).columns:\n",
        "    changedX[column] = pd.Categorical(changedX[column]).codes\n",
        "\n",
        "# MinMaxScaler\n",
        "scaler = MinMaxScaler()\n",
        "changedX_scaled = scaler.fit_transform(changedX)\n",
        "changedX_train, changedX_test, y_train, y_test = train_test_split(changedX_scaled, y, test_size=0.2, random_state=42)\n",
        "\n",
        "# Linear Regression\n",
        "lr_model = LinearRegression()\n",
        "lr_model.fit(changedX_train, y_train)\n",
        "predictions_lr = lr_model.predict(changedX_test)\n",
        "mse_lr = mean_squared_error(y_test, predictions_lr)\n",
        "r2_lr = r2_score(y_test, predictions_lr)\n",
        "\n",
        "\n",
        "\n",
        "print(\"Linear Regression Label Encoding Metrics For Sales Target:\")\n",
        "print(\"MSE:\", mse_lr)\n",
        "print(\"R^2 Score:\", r2_lr)"
      ],
      "metadata": {
        "id": "L40BQRe7nD4_",
        "colab": {
          "base_uri": "https://localhost:8080/"
        },
        "outputId": "94579e4d-b6bd-4cef-c6a4-25dadfc935fd"
      },
      "execution_count": null,
      "outputs": [
        {
          "output_type": "stream",
          "name": "stdout",
          "text": [
            "Linear Regression Label Encoding Metrics For Sales Target:\n",
            "MSE: 22023142.515233032\n",
            "R^2 Score: 0.12349817745837499\n"
          ]
        }
      ]
    },
    {
      "cell_type": "code",
      "source": [
        "import pandas as pd\n",
        "import numpy as np\n",
        "from sklearn.model_selection import train_test_split\n",
        "from sklearn.preprocessing import MinMaxScaler\n",
        "from sklearn.linear_model import LinearRegression\n",
        "from sklearn.metrics import mean_squared_error, r2_score\n",
        "\n",
        "\n",
        "changedX = df.drop(['ReceiptSum', 'UserID', 'ProductID'], axis=1)\n",
        "y = df['ReceiptSum']\n",
        "\n",
        "# One-hot encode\n",
        "changedX = pd.get_dummies(changedX, drop_first=True)  # drop_first to avoid dummy variable trap\n",
        "\n",
        "#MinMaxScaler\n",
        "scaler = MinMaxScaler()\n",
        "changedX_scaled = scaler.fit_transform(changedX)\n",
        "changedX_train, changedX_test, y_train, y_test = train_test_split(changedX_scaled, y, test_size=0.2, random_state=42)\n",
        "\n",
        "lr_model = LinearRegression()\n",
        "lr_model.fit(changedX_train, y_train)\n",
        "predictions_lr = lr_model.predict(changedX_test)\n",
        "mse_lr = mean_squared_error(y_test, predictions_lr)\n",
        "r2_lr = r2_score(y_test, predictions_lr)\n",
        "\n",
        "print(\"Linear Regression Metrics:\")\n",
        "print(\"MSE:\", mse_lr)\n",
        "print(\"R^2 Score:\", r2_lr)\n"
      ],
      "metadata": {
        "colab": {
          "base_uri": "https://localhost:8080/"
        },
        "id": "LGsf9i0rEEnU",
        "outputId": "12a9ffb6-c5ea-4118-b3c5-6536d4a81085"
      },
      "execution_count": null,
      "outputs": [
        {
          "output_type": "stream",
          "name": "stdout",
          "text": [
            "Linear Regression Metrics:\n",
            "MSE: 22010737.371376548\n",
            "R^2 Score: 0.12399189134101352\n"
          ]
        }
      ]
    },
    {
      "cell_type": "code",
      "source": [
        "import pandas as pd\n",
        "import numpy as np\n",
        "from sklearn.model_selection import train_test_split\n",
        "from sklearn.preprocessing import RobustScaler\n",
        "from sklearn.linear_model import LinearRegression\n",
        "from sklearn.metrics import mean_squared_error, r2_score\n",
        "\n",
        "\n",
        "changedX = df.drop(['ReceiptSum', 'UserID', 'ProductID'], axis=1)\n",
        "y = df['ReceiptSum']\n",
        "\n",
        "# One-hot encode\n",
        "changedX = pd.get_dummies(changedX, drop_first=True)  # drop_first to avoid dummy variable trap\n",
        "\n",
        "#RobustScaler\n",
        "scaler = RobustScaler()\n",
        "changedX_scaled = scaler.fit_transform(changedX)\n",
        "changedX_train, changedX_test, y_train, y_test = train_test_split(changedX_scaled, y, test_size=0.2, random_state=42)\n",
        "\n",
        "lr_model = LinearRegression()\n",
        "lr_model.fit(changedX_train, y_train)\n",
        "predictions_lr = lr_model.predict(changedX_test)\n",
        "mse_lr = mean_squared_error(y_test, predictions_lr)\n",
        "r2_lr = r2_score(y_test, predictions_lr)\n",
        "\n",
        "print(\"Linear Regression Metrics:\")\n",
        "print(\"MSE:\", mse_lr)\n",
        "print(\"R^2 Score:\", r2_lr)"
      ],
      "metadata": {
        "colab": {
          "base_uri": "https://localhost:8080/"
        },
        "id": "RkCUi7c4IAZs",
        "outputId": "dc40b579-a27e-4e18-ccf7-eca9cb989f92"
      },
      "execution_count": null,
      "outputs": [
        {
          "output_type": "stream",
          "name": "stdout",
          "text": [
            "Linear Regression Metrics:\n",
            "MSE: 22010737.371376716\n",
            "R^2 Score: 0.12399189134100674\n"
          ]
        }
      ]
    },
    {
      "cell_type": "code",
      "source": [
        "import matplotlib.pyplot as plt\n",
        "\n",
        "models = [\"Label Encoding\", \"One-Hot Encoding\", \"RobustScaler\"]\n",
        "mse = [22023142.5152332, 22010737.371376548, 22010737.37137616]\n",
        "r2 = [0.12348917745873499, 0.12399189134101352, 0.12399189134010674]\n",
        "\n",
        "fig, ax = plt.subplots(figsize=(10, 5))\n",
        "bars = ax.bar(models, r2, color='b', alpha=0.6)\n",
        "\n",
        "for bar, mse_value in zip(bars, mse):\n",
        "    yval = bar.get_height()\n",
        "    ax.text(bar.get_x() + bar.get_width()/2, yval, f'MSE: { mse_value:.2f}',\n",
        "            verticalalignment='bottom', ha='center')\n",
        "\n",
        "\n",
        "ax.set_xlabel('Models')\n",
        "ax.set_ylabel('R2 Score')\n",
        "ax.set_title('Linear Regression Comparison of R2 and MSE')\n",
        "plt.show()\n"
      ],
      "metadata": {
        "colab": {
          "base_uri": "https://localhost:8080/",
          "height": 487
        },
        "id": "bziOyh3DSbv0",
        "outputId": "1b4bc324-0a4a-4741-a35e-dd53cd4409f1"
      },
      "execution_count": null,
      "outputs": [
        {
          "output_type": "display_data",
          "data": {
            "text/plain": [
              "<Figure size 1000x500 with 1 Axes>"
            ],
            "image/png": "[encoded data removed]"
          },
          "metadata": {}
        }
      ]
    },
    {
      "cell_type": "code",
      "source": [],
      "metadata": {
        "id": "ZuCVL7qwRXDi"
      },
      "execution_count": null,
      "outputs": []
    },
    {
      "cell_type": "markdown",
      "source": [
        "# Logistic Regression Models"
      ],
      "metadata": {
        "id": "IxfXmhJe-TO6"
      }
    },
    {
      "cell_type": "code",
      "source": [
        "# WORKING HERE"
      ],
      "metadata": {
        "id": "bgcSFCwv0Y5s"
      },
      "execution_count": null,
      "outputs": []
    },
    {
      "cell_type": "code",
      "source": [
        "# Testing Using Median\n",
        "\n",
        "import pandas as pd\n",
        "\n",
        "from sklearn.preprocessing import OneHotEncoder\n",
        "from sklearn.linear_model import LogisticRegression\n",
        "from sklearn.model_selection import train_test_split\n",
        "from sklearn.metrics import mean_squared_error, r2_score\n",
        "from sklearn.metrics import accuracy_score, precision_score, recall_score, f1_score, confusion_matrix, classification_report\n",
        "\n",
        "\n",
        "XLogisticRegression = df.drop(['ReceiptSum', 'UserID', 'ProductID'], axis=1)\n",
        "y = df['ReceiptSum'] > df['ReceiptSum'].median()  # Categorize as high (1) or low (0) spending\n",
        "#y=y.squeeze()\n",
        "\n",
        "# One-hot encode categorical features\n",
        "XLogisticRegression = pd.get_dummies(XLogisticRegression, drop_first=True)  # drop_first to avoid dummy variable trap\n",
        "\n",
        "\n",
        "\n",
        "X_train, X_test, y_train, y_test = train_test_split(XLogisticRegression, y, test_size=0.2, random_state=42)\n",
        "model = LogisticRegression()\n",
        "\n",
        "model.fit(X_train, y_train)\n",
        "y_pred = model.predict(X_test)\n",
        "\n",
        "# Calculate metrics\n",
        "#mse = mean_squared_error(y_test, y_pred)\n",
        "#r2 = r2_score(y_test, y_pred)\n",
        "\n",
        "intercept = model.intercept_\n",
        "coefficients = model.coef_\n",
        "accuracy = accuracy_score(y_test, y_pred)\n",
        "precision = precision_score(y_test, y_pred, average='weighted')\n",
        "recall = recall_score(y_test, y_pred, average='weighted')\n",
        "f1 = f1_score(y_test, y_pred, average='weighted')\n",
        "\n",
        "\n",
        "# Print the results\n",
        "#print(\"Mean Squared Error (MSE):\", mse)\n",
        "#print(\"R-squared (R²):\", r2)\n",
        "#print(\"Y Intercept:\", intercept)\n",
        "#print(\"Coefficients:\", coefficients)\n",
        "\n",
        "print(f\"Accuracy: {accuracy:.3f}\")\n",
        "print(f\"Precision: {precision:.3f}\")\n",
        "print(f\"Recall: {recall:.3f}\")\n",
        "print(f\"F1 Score: {f1:.3f}\")\n",
        "print(\"Confusion Matrix:\\n\", confusion_matrix(y_test, y_pred))\n",
        "print(\"Classification Report:\\n\", classification_report(y_test, y_pred))"
      ],
      "metadata": {
        "colab": {
          "base_uri": "https://localhost:8080/"
        },
        "id": "2dqZ1QRb3Ji3",
        "outputId": "0348a15d-f4f2-425b-c991-194d8fa2c8a8"
      },
      "execution_count": null,
      "outputs": [
        {
          "output_type": "stream",
          "name": "stderr",
          "text": [
            "/usr/local/lib/python3.10/dist-packages/sklearn/linear_model/_logistic.py:469: ConvergenceWarning: lbfgs failed to converge (status=1):\n",
            "STOP: TOTAL NO. of ITERATIONS REACHED LIMIT.\n",
            "\n",
            "Increase the number of iterations (max_iter) or scale the data as shown in:\n",
            "    https://scikit-learn.org/stable/modules/preprocessing.html\n",
            "Please also refer to the documentation for alternative solver options:\n",
            "    https://scikit-learn.org/stable/modules/linear_model.html#logistic-regression\n",
            "  n_iter_i = _check_optimize_result(\n"
          ]
        },
        {
          "output_type": "stream",
          "name": "stdout",
          "text": [
            "Accuracy: 0.640\n",
            "Precision: 0.640\n",
            "Recall: 0.640\n",
            "F1 Score: 0.640\n",
            "Confusion Matrix:\n",
            " [[34501 20645]\n",
            " [18940 35928]]\n",
            "Classification Report:\n",
            "               precision    recall  f1-score   support\n",
            "\n",
            "       False       0.65      0.63      0.64     55146\n",
            "        True       0.64      0.65      0.64     54868\n",
            "\n",
            "    accuracy                           0.64    110014\n",
            "   macro avg       0.64      0.64      0.64    110014\n",
            "weighted avg       0.64      0.64      0.64    110014\n",
            "\n"
          ]
        }
      ]
    },
    {
      "cell_type": "code",
      "source": [
        "#Testing increasing iterations using Median\n",
        "\n",
        "import pandas as pd\n",
        "\n",
        "from sklearn.preprocessing import OneHotEncoder\n",
        "from sklearn.linear_model import LogisticRegression\n",
        "from sklearn.model_selection import train_test_split\n",
        "from sklearn.metrics import mean_squared_error, r2_score\n",
        "from sklearn.metrics import accuracy_score, precision_score, recall_score, f1_score, confusion_matrix, classification_report\n",
        "\n",
        "\n",
        "XLogisticRegression = df.drop(['ReceiptSum', 'UserID', 'ProductID'], axis=1)\n",
        "y = df['ReceiptSum'] > df['ReceiptSum'].median()  # Categorize as high (1) or low (0) spending\n",
        "#y=y.squeeze()\n",
        "\n",
        "# One-hot encode categorical features\n",
        "XLogisticRegression = pd.get_dummies(XLogisticRegression, drop_first=True)  # drop_first to avoid dummy variable trap\n",
        "\n",
        "\n",
        "\n",
        "X_train, X_test, y_train, y_test = train_test_split(XLogisticRegression, y, test_size=0.2, random_state=42)\n",
        "model = LogisticRegression(max_iter=1000)\n",
        "\n",
        "model.fit(X_train, y_train)\n",
        "y_pred = model.predict(X_test)\n",
        "\n",
        "# metrics\n",
        "#mse = mean_squared_error(y_test, y_pred)\n",
        "#r2 = r2_score(y_test, y_pred)\n",
        "\n",
        "intercept = model.intercept_\n",
        "coefficients = model.coef_\n",
        "accuracy = accuracy_score(y_test, y_pred)\n",
        "precision = precision_score(y_test, y_pred, average='weighted')\n",
        "recall = recall_score(y_test, y_pred, average='binary')\n",
        "f1 = f1_score(y_test, y_pred, average='weighted')\n",
        "\n",
        "\n",
        "\n",
        "#print(\"Mean Squared Error (MSE):\", mse)\n",
        "#print(\"R-squared (R²):\", r2)\n",
        "#print(\"Y Intercept:\", intercept)\n",
        "#print(\"Coefficients:\", coefficients)\n",
        "\n",
        "print(f\"Accuracy: {accuracy:.3f}\")\n",
        "print(f\"Precision: {precision:.3f}\")\n",
        "print(f\"Recall: {recall:.3f}\")\n",
        "print(f\"F1 Score: {f1:.3f}\")\n",
        "print(\"Confusion Matrix:\\n\", confusion_matrix(y_test, y_pred))\n",
        "print(\"Classification Report:\\n\", classification_report(y_test, y_pred))"
      ],
      "metadata": {
        "colab": {
          "base_uri": "https://localhost:8080/"
        },
        "id": "INYPCnU6Brur",
        "outputId": "b361a68f-79ae-46dd-8919-14bb1fe35bba"
      },
      "execution_count": null,
      "outputs": [
        {
          "output_type": "stream",
          "name": "stdout",
          "text": [
            "Accuracy: 0.640\n",
            "Precision: 0.640\n",
            "Recall: 0.655\n",
            "F1 Score: 0.640\n",
            "Confusion Matrix:\n",
            " [[34487 20659]\n",
            " [18924 35944]]\n",
            "Classification Report:\n",
            "               precision    recall  f1-score   support\n",
            "\n",
            "       False       0.65      0.63      0.64     55146\n",
            "        True       0.64      0.66      0.64     54868\n",
            "\n",
            "    accuracy                           0.64    110014\n",
            "   macro avg       0.64      0.64      0.64    110014\n",
            "weighted avg       0.64      0.64      0.64    110014\n",
            "\n"
          ]
        }
      ]
    },
    {
      "cell_type": "code",
      "source": [
        "import pandas as pd\n",
        "\n",
        "from sklearn.preprocessing import OneHotEncoder, StandardScaler\n",
        "from sklearn.compose import ColumnTransformer\n",
        "from sklearn.linear_model import LogisticRegression\n",
        "from sklearn.model_selection import train_test_split\n",
        "from sklearn.metrics import mean_squared_error, r2_score\n",
        "from sklearn.metrics import accuracy_score, precision_score, recall_score, f1_score, confusion_matrix, classification_report\n",
        "\n",
        "#Testing Mean\n",
        "XLogisticRegression = df.drop(['ReceiptSum', 'UserID', 'ProductID'], axis=1)\n",
        "y = df['ReceiptSum'] > df['ReceiptSum'].mean()  # Categorize as high (1) or low (0) spending\n",
        "#y=y.squeeze()\n",
        "\n",
        "# One-hot encode categorical features\n",
        "XLogisticRegression = pd.get_dummies(XLogisticRegression, drop_first=True)  # drop_first to avoid dummy variable trap\n",
        "\n",
        "\n",
        "\n",
        "X_train, X_test, y_train, y_test = train_test_split(XLogisticRegression, y, test_size=0.2, random_state=42)\n",
        "model = LogisticRegression(max_iter=1000)\n",
        "\n",
        "model.fit(X_train, y_train)\n",
        "y_pred = model.predict(X_test)\n",
        "\n",
        "intercept = model.intercept_\n",
        "coefficients = model.coef_\n",
        "accuracy = accuracy_score(y_test, y_pred)\n",
        "precision = precision_score(y_test, y_pred, average='weighted')\n",
        "recall = recall_score(y_test, y_pred, average='weighted')\n",
        "f1 = f1_score(y_test, y_pred, average='weighted')\n",
        "\n",
        "\n",
        "print(f\"Accuracy: {accuracy:.3f}\")\n",
        "print(f\"Precision: {precision:.3f}\")\n",
        "print(f\"Recall: {recall:.3f}\")\n",
        "print(f\"F1 Score: {f1:.3f}\")\n",
        "print(\"Confusion Matrix:\\n\", confusion_matrix(y_test, y_pred))\n",
        "print(\"Classification Report:\\n\", classification_report(y_test, y_pred))\n",
        "\n"
      ],
      "metadata": {
        "colab": {
          "base_uri": "https://localhost:8080/"
        },
        "id": "4qGOJlSx-k43",
        "outputId": "71c5b151-d99b-4d03-ba0e-911045cecb8b"
      },
      "execution_count": null,
      "outputs": [
        {
          "output_type": "stream",
          "name": "stdout",
          "text": [
            "Accuracy: 0.788\n",
            "Precision: 0.789\n",
            "Recall: 0.788\n",
            "F1 Score: 0.781\n",
            "Confusion Matrix:\n",
            " [[59654  6768]\n",
            " [16598 26994]]\n",
            "Classification Report:\n",
            "               precision    recall  f1-score   support\n",
            "\n",
            "       False       0.78      0.90      0.84     66422\n",
            "        True       0.80      0.62      0.70     43592\n",
            "\n",
            "    accuracy                           0.79    110014\n",
            "   macro avg       0.79      0.76      0.77    110014\n",
            "weighted avg       0.79      0.79      0.78    110014\n",
            "\n"
          ]
        }
      ]
    },
    {
      "cell_type": "code",
      "source": [
        "## Using Median Standard Scaler\n",
        "\n",
        "import pandas as pd\n",
        "from sklearn.preprocessing import StandardScaler, MinMaxScaler, RobustScaler\n",
        "from sklearn.preprocessing import OneHotEncoder, StandardScaler\n",
        "from sklearn.compose import ColumnTransformer\n",
        "from sklearn.linear_model import LogisticRegression\n",
        "from sklearn.model_selection import train_test_split\n",
        "from sklearn.metrics import mean_squared_error, r2_score\n",
        "from sklearn.metrics import accuracy_score, precision_score, recall_score, f1_score, confusion_matrix, classification_report\n",
        "\n",
        "\n",
        "XLogisticRegression = df.drop(['ReceiptSum', 'UserID', 'ProductID'], axis=1)\n",
        "y = df['ReceiptSum'] > df['ReceiptSum'].median()  # Categorize as high (1) or low (0) spending\n",
        "#y=y.squeeze()\n",
        "\n",
        "# One-hot encode categorical features\n",
        "XLogisticRegression = pd.get_dummies(XLogisticRegression, drop_first=True)  # drop_first to avoid dummy variable trap\n",
        "\n",
        "\n",
        "\n",
        "X_train, X_test, y_train, y_test = train_test_split(XLogisticRegression, y, test_size=0.2, random_state=42)\n",
        "model = LogisticRegression(max_iter=1000)\n",
        "\n",
        "\n",
        "scaler = StandardScaler()\n",
        "X_train = scaler.fit_transform(X_train)\n",
        "X_test = scaler.transform(X_test)\n",
        "\n",
        "\n",
        "model.fit(X_train, y_train)\n",
        "y_pred = model.predict(X_test)\n",
        "\n",
        "# Calculate metrics\n",
        "#mse = mean_squared_error(y_test, y_pred)\n",
        "#r2 = r2_score(y_test, y_pred)\n",
        "\n",
        "intercept = model.intercept_\n",
        "coefficients = model.coef_\n",
        "accuracy = accuracy_score(y_test, y_pred)\n",
        "precision = precision_score(y_test, y_pred, average='weighted')\n",
        "recall = recall_score(y_test, y_pred, average='weighted')\n",
        "f1 = f1_score(y_test, y_pred, average='weighted')\n",
        "\n",
        "\n",
        "# Print the results\n",
        "#print(\"Mean Squared Error (MSE):\", mse)\n",
        "#print(\"R-squared (R²):\", r2)\n",
        "#print(\"Y Intercept:\", intercept)\n",
        "#print(\"Coefficients:\", coefficients)\n",
        "\n",
        "print(f\"Accuracy: {accuracy:.3f}\")\n",
        "print(f\"Precision: {precision:.3f}\")\n",
        "print(f\"Recall: {recall:.3f}\")\n",
        "print(f\"F1 Score: {f1:.3f}\")\n",
        "print(\"Confusion Matrix:\\n\", confusion_matrix(y_test, y_pred))\n",
        "print(\"Classification Report:\\n\", classification_report(y_test, y_pred))\n",
        "\n"
      ],
      "metadata": {
        "colab": {
          "base_uri": "https://localhost:8080/"
        },
        "id": "ZATCyVZkASip",
        "outputId": "11e4ebeb-698e-4576-e9e2-e7ba21ae7958"
      },
      "execution_count": null,
      "outputs": [
        {
          "output_type": "stream",
          "name": "stdout",
          "text": [
            "Accuracy: 0.640\n",
            "Precision: 0.640\n",
            "Recall: 0.640\n",
            "F1 Score: 0.640\n",
            "Confusion Matrix:\n",
            " [[34474 20672]\n",
            " [18925 35943]]\n",
            "Classification Report:\n",
            "               precision    recall  f1-score   support\n",
            "\n",
            "       False       0.65      0.63      0.64     55146\n",
            "        True       0.63      0.66      0.64     54868\n",
            "\n",
            "    accuracy                           0.64    110014\n",
            "   macro avg       0.64      0.64      0.64    110014\n",
            "weighted avg       0.64      0.64      0.64    110014\n",
            "\n"
          ]
        }
      ]
    },
    {
      "cell_type": "code",
      "source": [
        "## Using Median MinMax Scaler\n",
        "\n",
        "import pandas as pd\n",
        "from sklearn.preprocessing import StandardScaler, MinMaxScaler, RobustScaler\n",
        "from sklearn.preprocessing import OneHotEncoder, StandardScaler\n",
        "from sklearn.compose import ColumnTransformer\n",
        "from sklearn.linear_model import LogisticRegression\n",
        "from sklearn.model_selection import train_test_split\n",
        "from sklearn.metrics import mean_squared_error, r2_score\n",
        "from sklearn.metrics import accuracy_score, precision_score, recall_score, f1_score, confusion_matrix, classification_report\n",
        "\n",
        "\n",
        "XLogisticRegression = df.drop(['ReceiptSum', 'UserID', 'ProductID'], axis=1)\n",
        "y = df['ReceiptSum'] > df['ReceiptSum'].median()  # Categorize as high (1) or low (0) spending\n",
        "#y=y.squeeze()\n",
        "\n",
        "# One-hot encode categorical features\n",
        "XLogisticRegression = pd.get_dummies(XLogisticRegression, drop_first=True)  # drop_first to avoid dummy variable trap\n",
        "\n",
        "\n",
        "\n",
        "X_train, X_test, y_train, y_test = train_test_split(XLogisticRegression, y, test_size=0.2, random_state=42)\n",
        "model = LogisticRegression(max_iter=1000)\n",
        "\n",
        "\n",
        "scaler = MinMaxScaler()\n",
        "X_train = scaler.fit_transform(X_train)\n",
        "X_test = scaler.transform(X_test)\n",
        "\n",
        "\n",
        "model.fit(X_train, y_train)\n",
        "y_pred = model.predict(X_test)\n",
        "\n",
        "# Calculate metrics\n",
        "#mse = mean_squared_error(y_test, y_pred)\n",
        "#r2 = r2_score(y_test, y_pred)\n",
        "\n",
        "intercept = model.intercept_\n",
        "coefficients = model.coef_\n",
        "accuracy = accuracy_score(y_test, y_pred)\n",
        "precision = precision_score(y_test, y_pred, average='weighted')\n",
        "recall = recall_score(y_test, y_pred, average='weighted')\n",
        "f1 = f1_score(y_test, y_pred, average='weighted')\n",
        "\n",
        "\n",
        "# Print the results\n",
        "#print(\"Mean Squared Error (MSE):\", mse)\n",
        "#print(\"R-squared (R²):\", r2)\n",
        "#print(\"Y Intercept:\", intercept)\n",
        "#print(\"Coefficients:\", coefficients)\n",
        "\n",
        "\n",
        "print(f\"Accuracy: {accuracy:.3f}\")\n",
        "print(f\"Precision: {precision:.3f}\")\n",
        "print(f\"Recall: {recall:.3f}\")\n",
        "print(f\"F1 Score: {f1:.3f}\")\n",
        "print(\"Confusion Matrix:\\n\", confusion_matrix(y_test, y_pred))\n",
        "print(\"Classification Report:\\n\", classification_report(y_test, y_pred))\n",
        "\n"
      ],
      "metadata": {
        "colab": {
          "base_uri": "https://localhost:8080/"
        },
        "id": "4dY2ck5tloZ7",
        "outputId": "bbec8b69-b5cd-48de-b0e4-2356f1a7445e"
      },
      "execution_count": null,
      "outputs": [
        {
          "output_type": "stream",
          "name": "stdout",
          "text": [
            "Accuracy: 0.641\n",
            "Precision: 0.641\n",
            "Recall: 0.641\n",
            "F1 Score: 0.641\n",
            "Confusion Matrix:\n",
            " [[34557 20589]\n",
            " [18929 35939]]\n",
            "Classification Report:\n",
            "               precision    recall  f1-score   support\n",
            "\n",
            "       False       0.65      0.63      0.64     55146\n",
            "        True       0.64      0.66      0.65     54868\n",
            "\n",
            "    accuracy                           0.64    110014\n",
            "   macro avg       0.64      0.64      0.64    110014\n",
            "weighted avg       0.64      0.64      0.64    110014\n",
            "\n"
          ]
        }
      ]
    },
    {
      "cell_type": "code",
      "source": [
        "## Using Mean MinMaxScaler\n",
        "\n",
        "import pandas as pd\n",
        "from sklearn.preprocessing import OneHotEncoder, MinMaxScaler\n",
        "from sklearn.linear_model import LogisticRegression\n",
        "from sklearn.model_selection import train_test_split\n",
        "from sklearn.metrics import mean_squared_error, r2_score\n",
        "from sklearn.metrics import accuracy_score, precision_score, recall_score, f1_score, confusion_matrix, classification_report\n",
        "\n",
        "\n",
        "XLogisticRegression = df.drop(['ReceiptSum', 'UserID', 'ProductID'], axis=1)\n",
        "y = df['ReceiptSum'] > df['ReceiptSum'].mean()  # Categorize as high (1) or low (0) spending\n",
        "#y=y.squeeze()\n",
        "\n",
        "# One-hot encode categorical features\n",
        "XLogisticRegression = pd.get_dummies(XLogisticRegression, drop_first=True)  # drop_first to avoid dummy variable trap\n",
        "\n",
        "\n",
        "\n",
        "X_train, X_test, y_train, y_test = train_test_split(XLogisticRegression, y, test_size=0.2, random_state=42)\n",
        "model = LogisticRegression(max_iter=1000)\n",
        "\n",
        "\n",
        "scaler = MinMaxScaler()\n",
        "X_train = scaler.fit_transform(X_train)\n",
        "X_test = scaler.transform(X_test)\n",
        "\n",
        "\n",
        "model.fit(X_train, y_train)\n",
        "y_pred = model.predict(X_test)\n",
        "\n",
        "# Calculate metrics\n",
        "#mse = mean_squared_error(y_test, y_pred)\n",
        "#r2 = r2_score(y_test, y_pred)\n",
        "\n",
        "intercept = model.intercept_\n",
        "coefficients = model.coef_\n",
        "accuracy = accuracy_score(y_test, y_pred)\n",
        "precision = precision_score(y_test, y_pred, average='weighted')\n",
        "recall = recall_score(y_test, y_pred, average='weighted')\n",
        "f1 = f1_score(y_test, y_pred, average='weighted')\n",
        "\n",
        "\n",
        "# Print the results\n",
        "#print(\"Mean Squared Error (MSE):\", mse)\n",
        "#print(\"R-squared (R²):\", r2)\n",
        "#print(\"Y Intercept:\", intercept)\n",
        "#print(\"Coefficients:\", coefficients)\n",
        "\n",
        "print(f\"Accuracy: {accuracy:.3f}\")\n",
        "print(f\"Precision: {precision:.3f}\")\n",
        "print(f\"Recall: {recall:.3f}\")\n",
        "print(f\"F1 Score: {f1:.3f}\")\n",
        "print(\"Confusion Matrix:\\n\", confusion_matrix(y_test, y_pred))\n",
        "print(\"Classification Report:\\n\", classification_report(y_test, y_pred))\n"
      ],
      "metadata": {
        "colab": {
          "base_uri": "https://localhost:8080/"
        },
        "id": "gWLPgDjZBJOV",
        "outputId": "fea4e069-f5fb-42b3-efaf-2aad421c16bb"
      },
      "execution_count": null,
      "outputs": [
        {
          "output_type": "stream",
          "name": "stdout",
          "text": [
            "Accuracy: 0.788\n",
            "Precision: 0.789\n",
            "Recall: 0.788\n",
            "F1 Score: 0.781\n",
            "Confusion Matrix:\n",
            " [[59647  6775]\n",
            " [16599 26993]]\n",
            "Classification Report:\n",
            "               precision    recall  f1-score   support\n",
            "\n",
            "       False       0.78      0.90      0.84     66422\n",
            "        True       0.80      0.62      0.70     43592\n",
            "\n",
            "    accuracy                           0.79    110014\n",
            "   macro avg       0.79      0.76      0.77    110014\n",
            "weighted avg       0.79      0.79      0.78    110014\n",
            "\n"
          ]
        }
      ]
    },
    {
      "cell_type": "code",
      "source": [
        "## Using Mean Standard Scaler\n",
        "\n",
        "import pandas as pd\n",
        "from sklearn.preprocessing import StandardScaler\n",
        "from sklearn.preprocessing import OneHotEncoder, StandardScaler\n",
        "from sklearn.compose import ColumnTransformer\n",
        "from sklearn.linear_model import LogisticRegression\n",
        "from sklearn.model_selection import train_test_split\n",
        "from sklearn.metrics import mean_squared_error, r2_score\n",
        "from sklearn.metrics import accuracy_score, precision_score, recall_score, f1_score, confusion_matrix, classification_report\n",
        "\n",
        "\n",
        "XLogisticRegression = df.drop(['ReceiptSum', 'UserID', 'ProductID'], axis=1)\n",
        "y = df['ReceiptSum'] > df['ReceiptSum'].mean()  # Categorize as high (1) or low (0) spending\n",
        "#y=y.squeeze()\n",
        "\n",
        "# One-hot encode categorical features\n",
        "XLogisticRegression = pd.get_dummies(XLogisticRegression, drop_first=True)  # drop_first to avoid dummy variable trap\n",
        "\n",
        "\n",
        "\n",
        "X_train, X_test, y_train, y_test = train_test_split(XLogisticRegression, y, test_size=0.2, random_state=42)\n",
        "model = LogisticRegression(max_iter=1000)\n",
        "\n",
        "\n",
        "scaler = StandardScaler()\n",
        "X_train = scaler.fit_transform(X_train)\n",
        "X_test = scaler.transform(X_test)\n",
        "\n",
        "\n",
        "model.fit(X_train, y_train)\n",
        "y_pred = model.predict(X_test)\n",
        "\n",
        "# Calculate metrics\n",
        "#mse = mean_squared_error(y_test, y_pred)\n",
        "#r2 = r2_score(y_test, y_pred)\n",
        "\n",
        "intercept = model.intercept_\n",
        "coefficients = model.coef_\n",
        "accuracy = accuracy_score(y_test, y_pred)\n",
        "precision = precision_score(y_test, y_pred, average='weighted')\n",
        "recall = recall_score(y_test, y_pred, average='weighted')\n",
        "f1 = f1_score(y_test, y_pred, average='weighted')\n",
        "\n",
        "\n",
        "# Print the results\n",
        "#print(\"Mean Squared Error (MSE):\", mse)\n",
        "#print(\"R-squared (R²):\", r2)\n",
        "#print(\"Y Intercept:\", intercept)\n",
        "#print(\"Coefficients:\", coefficients)\n",
        "\n",
        "print(f\"Accuracy: {accuracy:.3f}\")\n",
        "print(f\"Precision : {precision:.3f}\")\n",
        "print(f\"Recall: {recall:.3f}\")\n",
        "print(f\"F1 Score: {f1:.3f}\")\n",
        "\n",
        "print(\"Confusion Matrix:\\n\", confusion_matrix(y_test, y_pred))\n",
        "print(\"Classification Report:\\n\", classification_report(y_test, y_pred))\n",
        "\n"
      ],
      "metadata": {
        "colab": {
          "base_uri": "https://localhost:8080/"
        },
        "id": "jCYfx57kgRjt",
        "outputId": "7cda8df7-46dc-4299-c919-0f5d0deb1e15"
      },
      "execution_count": null,
      "outputs": [
        {
          "output_type": "stream",
          "name": "stdout",
          "text": [
            "Accuracy: 0.788\n",
            "Precision: 0.789\n",
            "Recall: 0.788\n",
            "F1 Score: 0.781\n",
            "Confusion Matrix:\n",
            " [[59653  6769]\n",
            " [16598 26994]]\n",
            "Classification Report:\n",
            "               precision    recall  f1-score   support\n",
            "\n",
            "       False       0.78      0.90      0.84     66422\n",
            "        True       0.80      0.62      0.70     43592\n",
            "\n",
            "    accuracy                           0.79    110014\n",
            "   macro avg       0.79      0.76      0.77    110014\n",
            "weighted avg       0.79      0.79      0.78    110014\n",
            "\n"
          ]
        }
      ]
    },
    {
      "cell_type": "code",
      "source": [
        "## Using Mean RobustScaler Scaler\n",
        "\n",
        "import pandas as pd\n",
        "from sklearn.preprocessing import StandardScaler\n",
        "from sklearn.preprocessing import OneHotEncoder, RobustScaler\n",
        "from sklearn.compose import ColumnTransformer\n",
        "from sklearn.linear_model import LogisticRegression\n",
        "from sklearn.model_selection import train_test_split\n",
        "from sklearn.metrics import mean_squared_error, r2_score\n",
        "from sklearn.metrics import accuracy_score, precision_score, recall_score, f1_score, confusion_matrix, classification_report\n",
        "\n",
        "\n",
        "XLogisticRegression = df.drop(['ReceiptSum', 'UserID', 'ProductID'], axis=1)\n",
        "y = df['ReceiptSum'] > df['ReceiptSum'].mean()  # Categorize as high (1) or low (0) spending\n",
        "#y=y.squeeze()\n",
        "\n",
        "# One-hot encode categorical features\n",
        "XLogisticRegression = pd.get_dummies(XLogisticRegression, drop_first=True)  # drop_first to avoid dummy variable trap\n",
        "\n",
        "\n",
        "\n",
        "X_train, X_test, y_train, y_test = train_test_split(XLogisticRegression, y, test_size=0.2, random_state=42)\n",
        "model = LogisticRegression(max_iter=1000)\n",
        "\n",
        "\n",
        "scaler = RobustScaler()\n",
        "X_train = scaler.fit_transform(X_train)\n",
        "X_test = scaler.transform(X_test)\n",
        "\n",
        "\n",
        "model.fit(X_train, y_train)\n",
        "y_pred = model.predict(X_test)\n",
        "\n",
        "# Calculate metrics\n",
        "#mse = mean_squared_error(y_test, y_pred)\n",
        "#r2 = r2_score(y_test, y_pred)\n",
        "\n",
        "intercept = model.intercept_\n",
        "coefficients = model.coef_\n",
        "accuracy = accuracy_score(y_test, y_pred)\n",
        "precision = precision_score(y_test, y_pred, average='weighted')\n",
        "recall = recall_score(y_test, y_pred, average='weighted')\n",
        "f1 = f1_score(y_test, y_pred, average='weighted')\n",
        "\n",
        "\n",
        "# Print the results\n",
        "#print(\"Mean Squared Error (MSE):\", mse)\n",
        "#print(\"R-squared (R²):\", r2)\n",
        "#print(\"Y Intercept:\", intercept)\n",
        "#print(\"Coefficients:\", coefficients)\n",
        "\n",
        "\n",
        "print(f\"Accuracy: {accuracy:.3f}\")\n",
        "print(f\"Precision: {precision:.3f}\")\n",
        "print(f\"Recall: {recall:.3f}\")\n",
        "print(f\"F1 Score: {f1:.3f}\")\n",
        "print(\"Confusion Matrix:\\n\", confusion_matrix(y_test, y_pred))\n",
        "print(\"Classification Report:\\n\", classification_report(y_test, y_pred))\n",
        "\n"
      ],
      "metadata": {
        "colab": {
          "base_uri": "https://localhost:8080/"
        },
        "id": "KxQZLOSigxMR",
        "outputId": "36ab16c0-929f-4fab-9bfc-e2e222822a04"
      },
      "execution_count": null,
      "outputs": [
        {
          "output_type": "stream",
          "name": "stdout",
          "text": [
            "Accuracy: 0.788\n",
            "Precision: 0.789\n",
            "Recall: 0.788\n",
            "F1 Score: 0.781\n",
            "Confusion Matrix:\n",
            " [[59646  6776]\n",
            " [16594 26998]]\n",
            "Classification Report:\n",
            "               precision    recall  f1-score   support\n",
            "\n",
            "       False       0.78      0.90      0.84     66422\n",
            "        True       0.80      0.62      0.70     43592\n",
            "\n",
            "    accuracy                           0.79    110014\n",
            "   macro avg       0.79      0.76      0.77    110014\n",
            "weighted avg       0.79      0.79      0.78    110014\n",
            "\n"
          ]
        }
      ]
    },
    {
      "cell_type": "markdown",
      "source": [
        "# Trees"
      ],
      "metadata": {
        "id": "zWIMvK9uJVe4"
      }
    },
    {
      "cell_type": "code",
      "source": [
        "import pandas as pd\n",
        "from sklearn.tree import DecisionTreeRegressor\n",
        "from sklearn.model_selection import train_test_split\n",
        "from sklearn.metrics import mean_squared_error, r2_score, mean_absolute_error\n",
        "\n",
        "XDecisionTreeRegressor = df.drop(['ReceiptSum', 'UserID', 'ProductID'], axis=1)\n",
        "y = df['ReceiptSum']\n",
        "# One-hot\n",
        "XDecisionTreeRegressor = pd.get_dummies(XDecisionTreeRegressor, drop_first=True)\n",
        "\n",
        "# Split\n",
        "X_train, X_test, y_train, y_test = train_test_split(XDecisionTreeRegressor, y, test_size=0.2, random_state=42)\n",
        "\n",
        "model = DecisionTreeRegressor(random_state=42)\n",
        "\n",
        "model.fit(X_train, y_train)\n",
        "\n",
        "y_pred = model.predict(X_test)\n",
        "\n",
        "# Calculate metrics\n",
        "mse = mean_squared_error(y_test, y_pred)\n",
        "r2 = r2_score(y_test, y_pred)\n",
        "\n",
        "\n",
        "print(\"Mean Squared Error (MSE):\", mse)\n",
        "print(\"R-squared (R²):\", r2)\n"
      ],
      "metadata": {
        "colab": {
          "base_uri": "https://localhost:8080/"
        },
        "id": "XnZkXuaMKdjo",
        "outputId": "179d4f05-8407-419d-8984-1e63bb1282da"
      },
      "execution_count": null,
      "outputs": [
        {
          "output_type": "stream",
          "name": "stdout",
          "text": [
            "Mean Squared Error (MSE): 8950520.859929599\n",
            "R-squared (R²): 0.6437770930738531\n"
          ]
        }
      ]
    },
    {
      "cell_type": "code",
      "source": [
        "import pandas as pd\n",
        "from sklearn.tree import DecisionTreeRegressor\n",
        "from sklearn.model_selection import train_test_split\n",
        "from sklearn.metrics import mean_squared_error, r2_score, mean_absolute_error\n",
        "from sklearn.preprocessing import StandardScaler\n",
        "\n",
        "XDecisionTreeRegressor = df.drop(['ReceiptSum', 'UserID', 'ProductID'], axis=1)\n",
        "y = df['ReceiptSum']\n",
        "# One-hot\n",
        "XDecisionTreeRegressor = pd.get_dummies(XDecisionTreeRegressor, drop_first=True)\n",
        "\n",
        "\n",
        "X_train, X_test, y_train, y_test = train_test_split(XDecisionTreeRegressor, y, test_size=0.2, random_state=42)\n",
        "\n",
        "\n",
        "\n",
        "scaler = StandardScaler()\n",
        "X_train_scaled = scaler.fit_transform(X_train)\n",
        "X_test_scaled = scaler.transform(X_test)\n",
        "\n",
        "\n",
        "model = DecisionTreeRegressor(random_state=42)\n",
        "model.fit(X_train, y_train)\n",
        "y_pred = model.predict(X_test)\n",
        "\n",
        "# Calculate metrics\n",
        "mse = mean_squared_error(y_test, y_pred)\n",
        "r2 = r2_score(y_test, y_pred)\n",
        "\n",
        "print(\"Mean Squared Error (MSE):\", mse)\n",
        "print(\"Mean Squared Error (MSE):\", mse)\n",
        "print(\"R-squared (R²):\", r2)\n"
      ],
      "metadata": {
        "colab": {
          "base_uri": "https://localhost:8080/"
        },
        "id": "0-s3PgGiLhmR",
        "outputId": "f9d1c65c-48b1-4964-bb12-a088e827fd84"
      },
      "execution_count": null,
      "outputs": [
        {
          "output_type": "stream",
          "name": "stdout",
          "text": [
            "Mean Squared Error (MSE): 8950520.859929599\n",
            "R-squared (R²): 0.6437770930738531\n"
          ]
        }
      ]
    },
    {
      "cell_type": "code",
      "source": [
        "#Non linear relationships in data and wide range of receipt values i.e. 12- 25k"
      ],
      "metadata": {
        "id": "i2-xQi1VLhor"
      },
      "execution_count": null,
      "outputs": []
    },
    {
      "cell_type": "code",
      "source": [
        "import pandas as pd\n",
        "from sklearn.tree import DecisionTreeRegressor\n",
        "from sklearn.model_selection import train_test_split\n",
        "from sklearn.metrics import mean_squared_error, r2_score, mean_absolute_error\n",
        "from sklearn.preprocessing import MinMaxScaler\n",
        "\n",
        "XDecisionTreeRegressor = df.drop(['ReceiptSum', 'UserID', 'ProductID'], axis=1)\n",
        "y = df['ReceiptSum']\n",
        "# One-hot\n",
        "XDecisionTreeRegressor = pd.get_dummies(XDecisionTreeRegressor, drop_first=True)\n",
        "\n",
        "\n",
        "X_train, X_test, y_train, y_test = train_test_split(XDecisionTreeRegressor, y, test_size=0.2, random_state=42)\n",
        "\n",
        "\n",
        "scaler = MinMaxScaler()\n",
        "X_train_scaled = scaler.fit_transform(X_train)\n",
        "X_test_scaled = scaler.transform(X_test)\n",
        "\n",
        "model = DecisionTreeRegressor(random_state=42)\n",
        "model.fit(X_train, y_train)\n",
        "\n",
        "y_pred = model.predict(X_test)\n",
        "\n",
        "# Calculate metrics\n",
        "mse = mean_squared_error(y_test, y_pred)\n",
        "r2 = r2_score(y_test, y_pred)\n",
        "\n",
        "print(\"Mean Squared Error (MSE):\", mse)\n",
        "print(\"R-squared (R²):\", r2)\n"
      ],
      "metadata": {
        "colab": {
          "base_uri": "https://localhost:8080/"
        },
        "id": "Zt2MU5N9Lh00",
        "outputId": "e9076265-fbbe-44e1-eac3-29e45db7ba8d"
      },
      "execution_count": null,
      "outputs": [
        {
          "output_type": "stream",
          "name": "stdout",
          "text": [
            "Mean Squared Error (MSE): 8950520.859929599\n",
            "R-squared (R²): 0.6437770930738531\n"
          ]
        }
      ]
    },
    {
      "cell_type": "code",
      "source": [
        "import pandas as pd\n",
        "from sklearn.tree import DecisionTreeRegressor\n",
        "from sklearn.model_selection import train_test_split\n",
        "from sklearn.metrics import mean_squared_error, r2_score, mean_absolute_error\n",
        "from sklearn.preprocessing import RobustScaler\n",
        "\n",
        "XDecisionTreeRegressor = df.drop(['ReceiptSum', 'UserID', 'ProductID'], axis=1)\n",
        "y = df['ReceiptSum']\n",
        "# One hot\n",
        "XDecisionTreeRegressor = pd.get_dummies(XDecisionTreeRegressor, drop_first=True)\n",
        "\n",
        "X_train, X_test, y_train, y_test = train_test_split(XDecisionTreeRegressor, y, test_size=0.2, random_state=42)\n",
        "\n",
        "\n",
        "\n",
        "scaler = RobustScaler()\n",
        "X_train_scaled = scaler.fit_transform(X_train)\n",
        "X_test_scaled = scaler.transform(X_test)\n",
        "\n",
        "model = DecisionTreeRegressor(random_state=42)\n",
        "\n",
        "model.fit(X_train, y_train)\n",
        "\n",
        "y_pred = model.predict(X_test)\n",
        "\n",
        "\n",
        "\n",
        "mse = mean_squared_error(y_test, y_pred)\n",
        "r2 = r2_score(y_test, y_pred)\n",
        "MAE = mean_absolute_error(y_test, y_pred)\n",
        "\n",
        "print(\"Decision Tree Regressor Results:\")\n",
        "\n",
        "print(\"mean_absolute_error:\", MAE)\n",
        "\n",
        "print(\"Mean Squared Error (MSE):\", mse)\n",
        "print(\"R-squared (R²):\", r2)\n"
      ],
      "metadata": {
        "colab": {
          "base_uri": "https://localhost:8080/"
        },
        "id": "cWDIZmbyLh24",
        "outputId": "72055486-211f-4404-ea71-1c25f1cea365"
      },
      "execution_count": null,
      "outputs": [
        {
          "output_type": "stream",
          "name": "stdout",
          "text": [
            "Decision Tree Regressor Results:\n",
            "mean_absolute_error: 2185.090939720006\n",
            "Mean Squared Error (MSE): 8950520.859929599\n",
            "R-squared (R²): 0.6437770930738531\n"
          ]
        }
      ]
    },
    {
      "cell_type": "code",
      "source": [],
      "metadata": {
        "id": "55gngJD9ReIK"
      },
      "execution_count": null,
      "outputs": []
    },
    {
      "cell_type": "code",
      "source": [
        "import pandas as pd\n",
        "from sklearn.ensemble import RandomForestRegressor\n",
        "from sklearn.model_selection import train_test_split\n",
        "from sklearn.metrics import mean_squared_error, r2_score, mean_absolute_error\n",
        "from sklearn.preprocessing import StandardScaler\n",
        "\n",
        "X = df.drop(['ReceiptSum', 'UserID', 'ProductID'], axis=1)\n",
        "y = df['ReceiptSum']\n",
        "\n",
        "X = pd.get_dummies(X, drop_first=True)\n",
        "\n",
        "X_train, X_test, y_train, y_test = train_test_split(X, y, test_size=0.2, random_state=42)\n",
        "\n",
        "# Apply StandardScaler\n",
        "scaler = StandardScaler()\n",
        "X_train_scaled = scaler.fit_transform(X_train)\n",
        "X_test_scaled = scaler.transform(X_test)\n",
        "\n",
        "random_forest_model = RandomForestRegressor(n_estimators=100, random_state=42)\n",
        "random_forest_model.fit(X_train_scaled, y_train)\n",
        "y_pred = random_forest_model.predict(X_test_scaled)\n",
        "\n",
        "\n",
        "\n",
        "print(\"Random Forest Regressor Results:\")\n",
        "\n",
        "\n",
        "mse = mean_squared_error(y_test, y_pred)\n",
        "r2 = r2_score(y_test, y_pred)\n",
        "MAE = mean_absolute_error(y_test, y_pred)\n",
        "\n",
        "\n",
        "print(\"mean_absolute_error:\", MAE)\n",
        "\n",
        "print(\"Mean Squared Error (MSE):\", mse)\n",
        "print(\"R-squared (R²):\", r2)\n"
      ],
      "metadata": {
        "colab": {
          "base_uri": "https://localhost:8080/"
        },
        "id": "zsoZqCx_ReKd",
        "outputId": "8a64851a-03d0-4d05-95a2-1aa091ca8bc6"
      },
      "execution_count": null,
      "outputs": [
        {
          "output_type": "stream",
          "name": "stdout",
          "text": [
            "Random Forest Regressor Results:\n",
            "mean_absolute_error: 2171.981572069039\n",
            "Mean Squared Error (MSE): 8745856.107834546\n",
            "R-squared (R²): 0.6519225713178076\n"
          ]
        }
      ]
    },
    {
      "cell_type": "code",
      "source": [],
      "metadata": {
        "id": "2ceJDhkmReNQ"
      },
      "execution_count": null,
      "outputs": []
    },
    {
      "cell_type": "code",
      "source": [
        "import pandas as pd\n",
        "from sklearn.ensemble import GradientBoostingRegressor\n",
        "from sklearn.model_selection import train_test_split\n",
        "from sklearn.metrics import mean_squared_error, r2_score, mean_absolute_error\n",
        "from sklearn.preprocessing import StandardScaler\n",
        "\n",
        "\n",
        "X = df.drop(['ReceiptSum', 'UserID', 'ProductID'], axis=1)\n",
        "y = df['ReceiptSum']\n",
        "\n",
        "X = pd.get_dummies(X, drop_first=True)\n",
        "\n",
        "\n",
        "X_train, X_test, y_train, y_test = train_test_split(X, y, test_size=0.2, random_state=42)\n",
        "\n",
        "\n",
        "scaler = StandardScaler()\n",
        "X_train_scaled = scaler.fit_transform(X_train)\n",
        "X_test_scaled = scaler.transform(X_test)\n",
        "\n",
        "\n",
        "\n",
        "gradient_boosting_model = GradientBoostingRegressor(n_estimators=100, learning_rate=0.1, max_depth=3, random_state=42)\n",
        "gradient_boosting_model.fit(X_train_scaled, y_train)\n",
        "y_pred = gradient_boosting_model.predict(X_test_scaled)\n",
        "\n",
        "\n",
        "\n",
        "\n",
        "mse = mean_squared_error(y_test, y_pred)\n",
        "r2 = r2_score(y_test, y_pred)\n",
        "MAE = mean_absolute_error(y_test, y_pred)\n",
        "\n",
        "\n",
        "print(\"Gradient Boosting Regressor Results:\")\n",
        "print(\"mean_absolute_error:\", MAE)\n",
        "\n",
        "print(\"Mean Squared Error (MSE):\", mse)\n",
        "print(\"R-squared (R²):\", r2)\n"
      ],
      "metadata": {
        "colab": {
          "base_uri": "https://localhost:8080/"
        },
        "id": "HXnuCmCuRegF",
        "outputId": "cf23274a-ce4f-429a-9e92-39871ca0930f"
      },
      "execution_count": null,
      "outputs": [
        {
          "output_type": "stream",
          "name": "stdout",
          "text": [
            "Gradient Boosting Regressor Results:\n",
            "mean_absolute_error: 2289.340348444576\n",
            "Mean Squared Error (MSE): 9166417.23620022\n",
            "R-squared (R²): 0.6351846060048327\n"
          ]
        }
      ]
    }
  ]
}